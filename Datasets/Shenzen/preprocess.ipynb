{
 "cells": [
  {
   "cell_type": "code",
   "execution_count": null,
   "id": "4269e551-1311-4fc0-9244-40ee4d66628b",
   "metadata": {},
   "outputs": [],
   "source": [
    "\"\"\"\n",
    "Code adapted from https://github.com/ngaggion/HybridGNet\n",
    "\"\"\""
   ]
  },
  {
   "cell_type": "code",
   "execution_count": null,
   "id": "71f462ef-8df6-4246-b922-04442908f3ab",
   "metadata": {},
   "outputs": [],
   "source": [
    "%load_ext autoreload\n",
    "%autoreload 2"
   ]
  },
  {
   "cell_type": "code",
   "execution_count": null,
   "id": "9e8d4f74-8a4f-436b-8674-dc13e01f5d9c",
   "metadata": {},
   "outputs": [],
   "source": [
    "import numpy as np\n",
    "import glob\n",
    "import cv2"
   ]
  },
  {
   "cell_type": "markdown",
   "id": "3b1c9c75-6b38-4fa0-ab27-b4ea9f8e011d",
   "metadata": {
    "tags": []
   },
   "source": [
    "## Train-Val-Test splits"
   ]
  },
  {
   "cell_type": "code",
   "execution_count": null,
   "id": "d4a19725-79a2-4e7d-9527-f24a6d23c13b",
   "metadata": {},
   "outputs": [],
   "source": [
    "with open('train_list.txt') as file:\n",
    "    train_list = [line.rstrip() for line in file]\n",
    "    \n",
    "with open('val_list.txt') as file:\n",
    "    val_list = [line.rstrip() for line in file]\n",
    "    \n",
    "with open('test_list.txt') as file:\n",
    "    test_list = [line.rstrip() for line in file]"
   ]
  },
  {
   "cell_type": "markdown",
   "id": "9dd5f8dc-785e-4ee0-ae27-8fb0020e625e",
   "metadata": {},
   "source": [
    "## Process Landmarks\n",
    "\n",
    "Note:  390/662 images have landmark labels"
   ]
  },
  {
   "cell_type": "code",
   "execution_count": null,
   "id": "40b8af33-2134-4b72-ac1c-50dd784e46c5",
   "metadata": {},
   "outputs": [],
   "source": [
    "RL_files = glob.glob('../All_Landmarks/RL/CHN*.npy')\n",
    "LL_files = glob.glob('../All_Landmarks/LL/CHN*.npy')\n",
    "len(RL_files), len(LL_files)"
   ]
  },
  {
   "cell_type": "code",
   "execution_count": null,
   "id": "fff052e3-f212-47aa-b945-4b5887482344",
   "metadata": {},
   "outputs": [],
   "source": [
    "for RL_file, LL_file in zip(RL_files, LL_files):\n",
    "    RL = np.load(RL_file)\n",
    "    LL = np.load(LL_file)\n",
    "    L = np.concatenate([RL, LL], axis=0)\n",
    "    np.save('Landmarks/' + LL_file.split('/')[-1], L)"
   ]
  },
  {
   "cell_type": "markdown",
   "id": "c596a1c4-c99a-4a5b-a52a-2c016b999db6",
   "metadata": {},
   "source": [
    "## Preprocess Images"
   ]
  },
  {
   "cell_type": "code",
   "execution_count": null,
   "id": "76461fc3-1424-4ec2-af84-47f542c6ecad",
   "metadata": {},
   "outputs": [],
   "source": [
    "all_files = glob.glob('Images/*.png')\n",
    "len(all_files), all_files[:2]"
   ]
  },
  {
   "cell_type": "code",
   "execution_count": null,
   "id": "67e72942-9393-431a-a27d-48f2bc7e4982",
   "metadata": {
    "tags": []
   },
   "outputs": [],
   "source": [
    "i = 1\n",
    "\n",
    "for file in all_files:\n",
    "    print('\\r',i,'of', len(all_files),end='')\n",
    "\n",
    "    img = cv2.imread(file, 0)\n",
    "\n",
    "    gray = 255*(img > 1) # To invert the text to white\n",
    "    coords = cv2.findNonZero(gray) # Find all non-zero points (text)\n",
    "\n",
    "    x, y, w, h = cv2.boundingRect(coords) # Find minimum spanning bounding box\n",
    "    cropimg = img[y:y+h, x:x+w] # Crop the image - note we do this on the original image\n",
    "\n",
    "    shape = cropimg.shape\n",
    "\n",
    "    if shape[0] < shape[1]:\n",
    "        pad = (shape[1] - shape[0])    \n",
    "        \n",
    "        if pad % 2 == 1:\n",
    "            pad = pad // 2\n",
    "            pad_y = [pad, pad+1]\n",
    "        else:\n",
    "            pad = pad // 2\n",
    "            pad_y = [pad, pad]\n",
    "            \n",
    "        pad_x = [0, 0]\n",
    "    elif shape[1] < shape[0]:\n",
    "        pad = (shape[0] - shape[1]) \n",
    "        \n",
    "        if pad % 2 == 1:\n",
    "            pad = pad // 2\n",
    "            pad_x = [pad, pad+1]\n",
    "        else:\n",
    "            pad = pad // 2\n",
    "            pad_x = [pad, pad]\n",
    "            \n",
    "        pad_y = [0, 0]\n",
    "        \n",
    "    elif shape[1] == shape[0]:\n",
    "        pad_x = [0, 0]\n",
    "        pad_y = [0, 0]\n",
    "\n",
    "    img = np.pad(cropimg, pad_width = [pad_y, pad_x])    \n",
    "\n",
    "    if img.shape[0] != img.shape[1]:\n",
    "        print('Error padding image')\n",
    "        break\n",
    "\n",
    "    img_ = cv2.resize(img, [1024, 1024])\n",
    "\n",
    "    \n",
    "    if file.split('/')[-1].split('.')[0] in train_list:\n",
    "        cv2.imwrite('Train/'+file, img_)\n",
    "        \n",
    "    elif file.split('/')[-1].split('.')[0] in val_list:\n",
    "        cv2.imwrite('Val/'+file, img_)\n",
    "        \n",
    "    elif file.split('/')[-1].split('.')[0] in test_list:\n",
    "        cv2.imwrite('Test/'+file, img_)\n",
    "    else:\n",
    "        print('File not in list')\n",
    "        \n",
    "    i = i+1"
   ]
  },
  {
   "cell_type": "markdown",
   "id": "8a5346a2-ed03-4fa9-9a91-689f7e720b53",
   "metadata": {},
   "source": [
    "## Create and Process Masks/Landmarks"
   ]
  },
  {
   "cell_type": "code",
   "execution_count": null,
   "id": "c7c052b2-0a5b-4136-8363-7b97ae004aaa",
   "metadata": {},
   "outputs": [],
   "source": [
    "import sys\n",
    "sys.path.append('../..')"
   ]
  },
  {
   "cell_type": "code",
   "execution_count": null,
   "id": "5257f143-860e-4211-903a-36edf35e0705",
   "metadata": {},
   "outputs": [],
   "source": [
    "from utils.fun import drawBinary, reverseVector\n",
    "import matplotlib.pyplot as plt"
   ]
  },
  {
   "cell_type": "code",
   "execution_count": null,
   "id": "65dfc01f-e7cb-4a9e-98da-72b09850b0d5",
   "metadata": {},
   "outputs": [],
   "source": [
    "blank = np.zeros([1024, 1024])\n",
    "\n",
    "for list_str, list_ in [['Train/', train_list], ['Val/', val_list], ['Test/', test_list]]:\n",
    "    for example in list_:\n",
    "        landmarks = np.load('Landmarks/'+example+'.npy')\n",
    "        p1, p2, _, _, _ = reverseVector(landmarks.reshape(-1))\n",
    "        RLUNG = drawBinary(blank.copy(), p1)\n",
    "        LLUNG = drawBinary(blank.copy(), p2)\n",
    "        \n",
    "        LUNG_mask = (RLUNG + LLUNG) / 255\n",
    "        \n",
    "        assert np.all(np.unique(LUNG_mask) == [0., 1.])\n",
    "\n",
    "        #np.save(list_str+'Masks/'+example+'.npy', LUNG_mask)\n",
    "        #np.save(list_str+'Landmarks/'+example+'.npy', landmarks)\n",
    "        break\n",
    "        #plt.figure(figsize=(10,10))\n",
    "        #plt.scatter(*landmarks.T)\n",
    "        #plt.imshow(LUNG_mask)"
   ]
  },
  {
   "cell_type": "markdown",
   "id": "ea627640-38f7-4d5e-9846-a5832d5f415d",
   "metadata": {},
   "source": [
    "## Create SDF ground truth"
   ]
  },
  {
   "cell_type": "code",
   "execution_count": null,
   "id": "2f2237b0-7656-42d7-8901-bee211ee2528",
   "metadata": {},
   "outputs": [],
   "source": [
    "from utils.SDF import sdf\n",
    "from tqdm import tqdm"
   ]
  },
  {
   "cell_type": "code",
   "execution_count": null,
   "id": "88642a7f-b1fb-40d3-a749-1734f941e6c1",
   "metadata": {},
   "outputs": [],
   "source": [
    "mask_paths = glob.glob('*/Masks/*.npy')\n",
    "len(mask_paths), mask_paths[0]"
   ]
  },
  {
   "cell_type": "code",
   "execution_count": null,
   "id": "71a3bf91-677d-4013-b449-36950e73ee91",
   "metadata": {},
   "outputs": [],
   "source": [
    "for path in tqdm(mask_paths):\n",
    "    mask = np.load(path)\n",
    "    lung_sdf = sdf(mask, organ=1)\n",
    "    lung_sdf = np.expand_dims(lung_sdf, -1)\n",
    "    np.save(path.replace('Masks', 'SDF'), lung_sdf)\n",
    "    #break"
   ]
  },
  {
   "cell_type": "code",
   "execution_count": null,
   "id": "84a47b36-7d32-4a04-9b5d-ba87f52cb9b0",
   "metadata": {},
   "outputs": [],
   "source": []
  }
 ],
 "metadata": {
  "kernelspec": {
   "display_name": "torch_1.11",
   "language": "python",
   "name": "torch_1.11"
  },
  "language_info": {
   "codemirror_mode": {
    "name": "ipython",
    "version": 3
   },
   "file_extension": ".py",
   "mimetype": "text/x-python",
   "name": "python",
   "nbconvert_exporter": "python",
   "pygments_lexer": "ipython3",
   "version": "3.9.13"
  }
 },
 "nbformat": 4,
 "nbformat_minor": 5
}
