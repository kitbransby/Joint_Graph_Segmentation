{
 "cells": [
  {
   "cell_type": "code",
   "execution_count": 76,
   "id": "d0145ccc-730e-4b66-9d28-bb29b297ec82",
   "metadata": {},
   "outputs": [],
   "source": [
    "SEED = 9\n",
    "\n",
    "import sys\n",
    "sys.path.append('../..')\n",
    "\n",
    "import cv2\n",
    "import numpy as np\n",
    "import os\n",
    "from sklearn.model_selection import train_test_split\n",
    "import glob\n",
    "import shutil\n",
    "from utils.fun import reverseVector, drawBinary\n",
    "import matplotlib.pyplot as plt"
   ]
  },
  {
   "cell_type": "markdown",
   "id": "7c46dc4a-bcbc-46ee-b6f2-7c21bbd60e14",
   "metadata": {},
   "source": [
    "# PADCHEST dataset\n",
    "\n",
    "## Split into Train (70%), Val (15%), Test (15%) -> Quick Preprocess -> Save to Set Dirs"
   ]
  },
  {
   "cell_type": "code",
   "execution_count": 4,
   "id": "943118a9-4c5c-4909-8140-7ca3110337ad",
   "metadata": {
    "tags": []
   },
   "outputs": [
    {
     "data": {
      "text/plain": [
       "(['1256842362861431725328351539259305635_u1qifz.png',\n",
       "  '10155709300728342918543955138521808206_f7cj92.png',\n",
       "  '10287653421930576798556842610982533460_vpbhw6.png',\n",
       "  '10383960670432673238945376919735423432_hd3moq.png',\n",
       "  '10996416492353037588312781035930080694_8rstz0.png'],\n",
       " 137)"
      ]
     },
     "execution_count": 4,
     "metadata": {},
     "output_type": "execute_result"
    }
   ],
   "source": [
    "all_examples = [f.split('/')[-1] for f in glob.glob('All_Images/*.png')]\n",
    "all_examples[:5], len(all_examples)"
   ]
  },
  {
   "cell_type": "code",
   "execution_count": 5,
   "id": "33510235-83ff-45a2-9e34-b2200d178b69",
   "metadata": {},
   "outputs": [
    {
     "data": {
      "text/plain": [
       "(95, 21, 21)"
      ]
     },
     "execution_count": 5,
     "metadata": {},
     "output_type": "execute_result"
    }
   ],
   "source": [
    "train, val_test = train_test_split(all_examples, test_size=0.3, random_state=SEED)\n",
    "val, test = train_test_split(val_test, test_size=0.5, random_state=SEED)\n",
    "\n",
    "len(train), len(val), len(test)"
   ]
  },
  {
   "cell_type": "code",
   "execution_count": 6,
   "id": "4621afc5-8adc-4827-aab2-1cbbca6f2e55",
   "metadata": {},
   "outputs": [],
   "source": [
    "assert bool(set(train) & set(val)) == False\n",
    "assert bool(set(train) & set(test)) == False"
   ]
  },
  {
   "cell_type": "code",
   "execution_count": 7,
   "id": "76788f8e-035c-45a5-b2a6-7bc166d945c3",
   "metadata": {},
   "outputs": [],
   "source": [
    "with open('train_files.txt', 'w') as f:\n",
    "    for line in train:\n",
    "        f.write(f\"{line}\\n\")\n",
    "\n",
    "with open('val_files.txt', 'w') as f:\n",
    "    for line in val:\n",
    "        f.write(f\"{line}\\n\")\n",
    "        \n",
    "with open('test_files.txt', 'w') as f:\n",
    "    for line in test:\n",
    "        f.write(f\"{line}\\n\")"
   ]
  },
  {
   "cell_type": "code",
   "execution_count": 102,
   "id": "9a696b65-b35d-43ab-9ad2-3e9a48821f2d",
   "metadata": {},
   "outputs": [],
   "source": [
    "def preprocess(set_, flist):\n",
    "    try:\n",
    "        os.mkdir(set_+'/Images')\n",
    "        os.mkdir(set_+'/Masks')\n",
    "        os.mkdir(set_+'/Landmarks')\n",
    "    except:\n",
    "        pass\n",
    "    \n",
    "    i = 1\n",
    "\n",
    "    for file in flist:\n",
    "        print('\\r',i,'of', len(flist),end='')\n",
    "        \n",
    "        # preprocess images\n",
    "\n",
    "        img = cv2.imread('All_Images/'+file, 0)\n",
    "\n",
    "        gray = 255*(img > 1) # To invert the text to white\n",
    "        coords = cv2.findNonZero(gray) # Find all non-zero points (text)\n",
    "\n",
    "        x, y, w, h = cv2.boundingRect(coords) # Find minimum spanning bounding box\n",
    "        cropimg = img[y:y+h, x:x+w] # Crop the image - note we do this on the original image\n",
    "\n",
    "        shape = cropimg.shape\n",
    "\n",
    "        if shape[0] < shape[1]:\n",
    "            pad = (shape[1] - shape[0])    \n",
    "\n",
    "            if pad % 2 == 1:\n",
    "                pad = pad // 2\n",
    "                pad_y = [pad, pad+1]\n",
    "            else:\n",
    "                pad = pad // 2\n",
    "                pad_y = [pad, pad]\n",
    "\n",
    "            pad_x = [0, 0]\n",
    "        elif shape[1] < shape[0]:\n",
    "            pad = (shape[0] - shape[1]) \n",
    "\n",
    "            if pad % 2 == 1:\n",
    "                pad = pad // 2\n",
    "                pad_x = [pad, pad+1]\n",
    "            else:\n",
    "                pad = pad // 2\n",
    "                pad_x = [pad, pad]\n",
    "\n",
    "            pad_y = [0, 0]\n",
    "\n",
    "        img = np.pad(cropimg, pad_width = [pad_y, pad_x])    \n",
    "\n",
    "        if img.shape[0] != img.shape[1]:\n",
    "            print('Error padding image')\n",
    "            break\n",
    "\n",
    "        img_ = cv2.resize(img, [1024, 1024])\n",
    "\n",
    "        cv2.imwrite(set_+'/Images/'+file, img_)\n",
    "        \n",
    "        # preprocess landmarks\n",
    "        \n",
    "        RL = np.load('../Chest-xray-landmark-dataset-main/landmarks/RL/'+file.replace('.png', '.npy'))\n",
    "        LL = np.load('../Chest-xray-landmark-dataset-main/landmarks/LL/'+file.replace('.png', '.npy'))\n",
    "        H = np.load('../Chest-xray-landmark-dataset-main/landmarks/H/'+file.replace('.png', '.npy'))\n",
    "        \n",
    "        landmarks = np.concatenate([RL, LL, H], axis=0).reshape(-1)\n",
    "        assert landmarks.shape == (240,)\n",
    "        np.save(set_+'/Landmarks/'+file.replace('.png', '.npy'), landmarks)\n",
    "        np.save('All_Landmarks/'+file.replace('.png', '.npy'), landmarks)\n",
    "        \n",
    "        # preprocess masks\n",
    "        \n",
    "        p1, p2, h, c1, c2 = reverseVector(landmarks)\n",
    "        lungs = drawBinary(np.zeros([1024,1024]), p1)\n",
    "        lungs = drawBinary(lungs, p2)\n",
    "        heart = drawBinary(np.zeros([1024,1024]), h)\n",
    "\n",
    "        mask = np.zeros([1024, 1024])\n",
    "        mask[heart == 255] = 2\n",
    "        mask[lungs == 255] = 1\n",
    "        np.save(set_+'/Masks/'+file.replace('.png', '.npy'), mask)\n",
    "        \n",
    "        np.save('All_Masks/'+file.replace('.png', '.npy'), mask)\n",
    "        \n",
    "        plt.imshow(img_)\n",
    "        plt.imshow(mask, alpha=0.5)\n",
    "        plt.scatter(*landmarks.reshape(-1,2).T, c='r', s=1)\n",
    "        plt.savefig('Visualise_Data/'+file, dpi=200)\n",
    "        plt.close()\n",
    "\n",
    "        i = i+1"
   ]
  },
  {
   "cell_type": "code",
   "execution_count": 103,
   "id": "4e2013d5-8368-47b6-b90b-9747a3cc5d54",
   "metadata": {},
   "outputs": [
    {
     "name": "stdout",
     "output_type": "stream",
     "text": [
      " 95 of 95"
     ]
    }
   ],
   "source": [
    "trainlist = open('train_files.txt','r').read().splitlines()\n",
    "preprocess('Train', trainlist)"
   ]
  },
  {
   "cell_type": "code",
   "execution_count": 104,
   "id": "07d3a8c3-f837-433b-81d5-5d6c7cafeb89",
   "metadata": {},
   "outputs": [
    {
     "name": "stdout",
     "output_type": "stream",
     "text": [
      " 21 of 21"
     ]
    }
   ],
   "source": [
    "vallist = open('val_files.txt','r').read().splitlines()\n",
    "preprocess('Val', vallist)"
   ]
  },
  {
   "cell_type": "code",
   "execution_count": 105,
   "id": "b8cf2f70-ab2c-4c60-85cc-5d4ff63b6f36",
   "metadata": {},
   "outputs": [
    {
     "name": "stdout",
     "output_type": "stream",
     "text": [
      " 21 of 21"
     ]
    }
   ],
   "source": [
    "testlist = open('test_files.txt','r').read().splitlines()\n",
    "preprocess('Test', testlist)"
   ]
  },
  {
   "cell_type": "code",
   "execution_count": null,
   "id": "be63b6d2-9897-4a0a-a530-a6f2d1fec636",
   "metadata": {},
   "outputs": [],
   "source": []
  }
 ],
 "metadata": {
  "kernelspec": {
   "display_name": "torch_1.11",
   "language": "python",
   "name": "torch_1.11"
  },
  "language_info": {
   "codemirror_mode": {
    "name": "ipython",
    "version": 3
   },
   "file_extension": ".py",
   "mimetype": "text/x-python",
   "name": "python",
   "nbconvert_exporter": "python",
   "pygments_lexer": "ipython3",
   "version": "3.9.13"
  }
 },
 "nbformat": 4,
 "nbformat_minor": 5
}
