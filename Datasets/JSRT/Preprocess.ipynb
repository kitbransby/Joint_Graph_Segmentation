{
 "cells": [
  {
   "cell_type": "code",
   "execution_count": 25,
   "id": "d0145ccc-730e-4b66-9d28-bb29b297ec82",
   "metadata": {},
   "outputs": [],
   "source": [
    "SEED = 9\n",
    "\n",
    "import cv2\n",
    "import numpy as np\n",
    "import os\n",
    "from sklearn.model_selection import train_test_split\n",
    "import glob\n",
    "import shutil"
   ]
  },
  {
   "cell_type": "markdown",
   "id": "7c46dc4a-bcbc-46ee-b6f2-7c21bbd60e14",
   "metadata": {},
   "source": [
    "# JSR dataset\n",
    "\n",
    "## Split into Train (70%), Val (15%), Test (15%) -> Quick Preprocess -> Save to Set Dirs"
   ]
  },
  {
   "cell_type": "code",
   "execution_count": 21,
   "id": "943118a9-4c5c-4909-8140-7ca3110337ad",
   "metadata": {
    "tags": []
   },
   "outputs": [
    {
     "data": {
      "text/plain": [
       "(['JPCLN001.IMG',\n",
       "  'JPCLN002.IMG',\n",
       "  'JPCLN003.IMG',\n",
       "  'JPCLN004.IMG',\n",
       "  'JPCLN005.IMG'],\n",
       " 246)"
      ]
     },
     "execution_count": 21,
     "metadata": {},
     "output_type": "execute_result"
    }
   ],
   "source": [
    "all_examples = [f.split('/')[-1] for f in glob.glob('All_Images/*.IMG')]\n",
    "all_examples[:5], len(all_examples)"
   ]
  },
  {
   "cell_type": "code",
   "execution_count": 22,
   "id": "33510235-83ff-45a2-9e34-b2200d178b69",
   "metadata": {},
   "outputs": [
    {
     "data": {
      "text/plain": [
       "(172, 37, 37)"
      ]
     },
     "execution_count": 22,
     "metadata": {},
     "output_type": "execute_result"
    }
   ],
   "source": [
    "train, val_test = train_test_split(all_examples, test_size=0.3, random_state=SEED)\n",
    "val, test = train_test_split(val_test, test_size=0.5, random_state=SEED)\n",
    "\n",
    "len(train), len(val), len(test)"
   ]
  },
  {
   "cell_type": "code",
   "execution_count": 23,
   "id": "4621afc5-8adc-4827-aab2-1cbbca6f2e55",
   "metadata": {},
   "outputs": [],
   "source": [
    "assert bool(set(train) & set(val)) == False\n",
    "assert bool(set(train) & set(test)) == False"
   ]
  },
  {
   "cell_type": "code",
   "execution_count": 24,
   "id": "76788f8e-035c-45a5-b2a6-7bc166d945c3",
   "metadata": {},
   "outputs": [],
   "source": [
    "with open('train_files.txt', 'w') as f:\n",
    "    for line in train:\n",
    "        f.write(f\"{line}\\n\")\n",
    "\n",
    "with open('val_files.txt', 'w') as f:\n",
    "    for line in val:\n",
    "        f.write(f\"{line}\\n\")\n",
    "        \n",
    "with open('test_files.txt', 'w') as f:\n",
    "    for line in test:\n",
    "        f.write(f\"{line}\\n\")"
   ]
  },
  {
   "cell_type": "code",
   "execution_count": 38,
   "id": "9a696b65-b35d-43ab-9ad2-3e9a48821f2d",
   "metadata": {},
   "outputs": [],
   "source": [
    "def preprocess(set_, flist):\n",
    "    try:\n",
    "        os.mkdir(set_+'/Images')\n",
    "        os.mkdir(set_+'/Masks')\n",
    "        os.mkdir(set_+'/Landmarks')\n",
    "    except:\n",
    "        pass\n",
    "    \n",
    "    for f in flist:\n",
    "        \n",
    "        # preprocess images\n",
    "        \n",
    "        p = os.path.join('All_Images', f)\n",
    "        \n",
    "        w, h = 2048, 2048 \n",
    "\n",
    "        with open(p, 'rb') as path: \n",
    "            dtype = np.dtype('>u2')\n",
    "            img = np.fromfile(path, dtype=dtype).reshape((h,w)) \n",
    "\n",
    "        img = 1 - img.astype('float')  / 4096\n",
    "        img = cv2.resize(img, (1024,1024))\n",
    "        img = img*255\n",
    "       \n",
    "        p = os.path.join(set_+'/Images', f.replace('.IMG','.png'))\n",
    "        cv2.imwrite(p, img.astype('uint8'))\n",
    "        \n",
    "        # preprocess masks \n",
    "        \n",
    "        src = os.path.join('All_Masks', f.replace('.IMG', '.npy'))\n",
    "        dst = os.path.join(set_+'/Masks', f.replace('.IMG', '.npy'))\n",
    "        shutil.copy(src,dst)\n",
    "        print(np.unique(np.load(src)))\n",
    "        \n",
    "        # preprocess landmarks\n",
    "        \n",
    "        src = os.path.join('All_Landmarks', f.replace('.IMG', '.npy'))\n",
    "        dst = os.path.join(set_+'/Landmarks', f.replace('.IMG', '.npy'))\n",
    "        shutil.copy(src,dst)\n",
    "\n",
    "        \n",
    "        \n",
    "        \n",
    "        \n",
    "    \n",
    "    \n",
    "    "
   ]
  },
  {
   "cell_type": "code",
   "execution_count": 39,
   "id": "4e2013d5-8368-47b6-b90b-9747a3cc5d54",
   "metadata": {},
   "outputs": [
    {
     "name": "stdout",
     "output_type": "stream",
     "text": [
      "[0. 1. 2.]\n",
      "[0. 1. 2.]\n",
      "[0. 1. 2.]\n",
      "[0. 1. 2.]\n",
      "[0. 1. 2.]\n",
      "[0. 1. 2.]\n"
     ]
    },
    {
     "ename": "KeyboardInterrupt",
     "evalue": "",
     "output_type": "error",
     "traceback": [
      "\u001b[0;31m---------------------------------------------------------------------------\u001b[0m",
      "\u001b[0;31mKeyboardInterrupt\u001b[0m                         Traceback (most recent call last)",
      "Input \u001b[0;32mIn [39]\u001b[0m, in \u001b[0;36m<cell line: 2>\u001b[0;34m()\u001b[0m\n\u001b[1;32m      1\u001b[0m trainlist \u001b[38;5;241m=\u001b[39m \u001b[38;5;28mopen\u001b[39m(\u001b[38;5;124m'\u001b[39m\u001b[38;5;124mtrain_files.txt\u001b[39m\u001b[38;5;124m'\u001b[39m,\u001b[38;5;124m'\u001b[39m\u001b[38;5;124mr\u001b[39m\u001b[38;5;124m'\u001b[39m)\u001b[38;5;241m.\u001b[39mread()\u001b[38;5;241m.\u001b[39msplitlines()\n\u001b[0;32m----> 2\u001b[0m \u001b[43mpreprocess\u001b[49m\u001b[43m(\u001b[49m\u001b[38;5;124;43m'\u001b[39;49m\u001b[38;5;124;43mTrain\u001b[39;49m\u001b[38;5;124;43m'\u001b[39;49m\u001b[43m,\u001b[49m\u001b[43m \u001b[49m\u001b[43mtrainlist\u001b[49m\u001b[43m)\u001b[49m\n",
      "Input \u001b[0;32mIn [38]\u001b[0m, in \u001b[0;36mpreprocess\u001b[0;34m(set_, flist)\u001b[0m\n\u001b[1;32m     31\u001b[0m dst \u001b[38;5;241m=\u001b[39m os\u001b[38;5;241m.\u001b[39mpath\u001b[38;5;241m.\u001b[39mjoin(set_\u001b[38;5;241m+\u001b[39m\u001b[38;5;124m'\u001b[39m\u001b[38;5;124m/Masks\u001b[39m\u001b[38;5;124m'\u001b[39m, f\u001b[38;5;241m.\u001b[39mreplace(\u001b[38;5;124m'\u001b[39m\u001b[38;5;124m.IMG\u001b[39m\u001b[38;5;124m'\u001b[39m, \u001b[38;5;124m'\u001b[39m\u001b[38;5;124m.npy\u001b[39m\u001b[38;5;124m'\u001b[39m))\n\u001b[1;32m     32\u001b[0m shutil\u001b[38;5;241m.\u001b[39mcopy(src,dst)\n\u001b[0;32m---> 33\u001b[0m \u001b[38;5;28mprint\u001b[39m(\u001b[43mnp\u001b[49m\u001b[38;5;241;43m.\u001b[39;49m\u001b[43munique\u001b[49m\u001b[43m(\u001b[49m\u001b[43mnp\u001b[49m\u001b[38;5;241;43m.\u001b[39;49m\u001b[43mload\u001b[49m\u001b[43m(\u001b[49m\u001b[43msrc\u001b[49m\u001b[43m)\u001b[49m\u001b[43m)\u001b[49m)\n\u001b[1;32m     35\u001b[0m \u001b[38;5;66;03m# preprocess landmarks\u001b[39;00m\n\u001b[1;32m     37\u001b[0m src \u001b[38;5;241m=\u001b[39m os\u001b[38;5;241m.\u001b[39mpath\u001b[38;5;241m.\u001b[39mjoin(\u001b[38;5;124m'\u001b[39m\u001b[38;5;124mAll_Landmarks\u001b[39m\u001b[38;5;124m'\u001b[39m, f\u001b[38;5;241m.\u001b[39mreplace(\u001b[38;5;124m'\u001b[39m\u001b[38;5;124m.IMG\u001b[39m\u001b[38;5;124m'\u001b[39m, \u001b[38;5;124m'\u001b[39m\u001b[38;5;124m.npy\u001b[39m\u001b[38;5;124m'\u001b[39m))\n",
      "File \u001b[0;32m<__array_function__ internals>:180\u001b[0m, in \u001b[0;36munique\u001b[0;34m(*args, **kwargs)\u001b[0m\n",
      "File \u001b[0;32m~/anaconda3/envs/torch_1.11/lib/python3.9/site-packages/numpy/lib/arraysetops.py:274\u001b[0m, in \u001b[0;36munique\u001b[0;34m(ar, return_index, return_inverse, return_counts, axis, equal_nan)\u001b[0m\n\u001b[1;32m    272\u001b[0m ar \u001b[38;5;241m=\u001b[39m np\u001b[38;5;241m.\u001b[39masanyarray(ar)\n\u001b[1;32m    273\u001b[0m \u001b[38;5;28;01mif\u001b[39;00m axis \u001b[38;5;129;01mis\u001b[39;00m \u001b[38;5;28;01mNone\u001b[39;00m:\n\u001b[0;32m--> 274\u001b[0m     ret \u001b[38;5;241m=\u001b[39m \u001b[43m_unique1d\u001b[49m\u001b[43m(\u001b[49m\u001b[43mar\u001b[49m\u001b[43m,\u001b[49m\u001b[43m \u001b[49m\u001b[43mreturn_index\u001b[49m\u001b[43m,\u001b[49m\u001b[43m \u001b[49m\u001b[43mreturn_inverse\u001b[49m\u001b[43m,\u001b[49m\u001b[43m \u001b[49m\u001b[43mreturn_counts\u001b[49m\u001b[43m,\u001b[49m\u001b[43m \u001b[49m\n\u001b[1;32m    275\u001b[0m \u001b[43m                    \u001b[49m\u001b[43mequal_nan\u001b[49m\u001b[38;5;241;43m=\u001b[39;49m\u001b[43mequal_nan\u001b[49m\u001b[43m)\u001b[49m\n\u001b[1;32m    276\u001b[0m     \u001b[38;5;28;01mreturn\u001b[39;00m _unpack_tuple(ret)\n\u001b[1;32m    278\u001b[0m \u001b[38;5;66;03m# axis was specified and not None\u001b[39;00m\n",
      "File \u001b[0;32m~/anaconda3/envs/torch_1.11/lib/python3.9/site-packages/numpy/lib/arraysetops.py:336\u001b[0m, in \u001b[0;36m_unique1d\u001b[0;34m(ar, return_index, return_inverse, return_counts, equal_nan)\u001b[0m\n\u001b[1;32m    334\u001b[0m     aux \u001b[38;5;241m=\u001b[39m ar[perm]\n\u001b[1;32m    335\u001b[0m \u001b[38;5;28;01melse\u001b[39;00m:\n\u001b[0;32m--> 336\u001b[0m     \u001b[43mar\u001b[49m\u001b[38;5;241;43m.\u001b[39;49m\u001b[43msort\u001b[49m\u001b[43m(\u001b[49m\u001b[43m)\u001b[49m\n\u001b[1;32m    337\u001b[0m     aux \u001b[38;5;241m=\u001b[39m ar\n\u001b[1;32m    338\u001b[0m mask \u001b[38;5;241m=\u001b[39m np\u001b[38;5;241m.\u001b[39mempty(aux\u001b[38;5;241m.\u001b[39mshape, dtype\u001b[38;5;241m=\u001b[39mnp\u001b[38;5;241m.\u001b[39mbool_)\n",
      "\u001b[0;31mKeyboardInterrupt\u001b[0m: "
     ]
    }
   ],
   "source": [
    "trainlist = open('train_files.txt','r').read().splitlines()\n",
    "preprocess('Train', trainlist)"
   ]
  },
  {
   "cell_type": "code",
   "execution_count": 32,
   "id": "07d3a8c3-f837-433b-81d5-5d6c7cafeb89",
   "metadata": {},
   "outputs": [],
   "source": [
    "vallist = open('val_files.txt','r').read().splitlines()\n",
    "preprocess('Val', vallist)"
   ]
  },
  {
   "cell_type": "code",
   "execution_count": 33,
   "id": "b8cf2f70-ab2c-4c60-85cc-5d4ff63b6f36",
   "metadata": {},
   "outputs": [],
   "source": [
    "testlist = open('test_files.txt','r').read().splitlines()\n",
    "preprocess('Test', testlist)"
   ]
  },
  {
   "cell_type": "code",
   "execution_count": null,
   "id": "be63b6d2-9897-4a0a-a530-a6f2d1fec636",
   "metadata": {},
   "outputs": [],
   "source": []
  },
  {
   "cell_type": "code",
   "execution_count": null,
   "id": "6389ceb8-b614-41e9-947f-0741fdbb3417",
   "metadata": {},
   "outputs": [],
   "source": []
  }
 ],
 "metadata": {
  "kernelspec": {
   "display_name": "torch_1.11",
   "language": "python",
   "name": "torch_1.11"
  },
  "language_info": {
   "codemirror_mode": {
    "name": "ipython",
    "version": 3
   },
   "file_extension": ".py",
   "mimetype": "text/x-python",
   "name": "python",
   "nbconvert_exporter": "python",
   "pygments_lexer": "ipython3",
   "version": "3.9.13"
  }
 },
 "nbformat": 4,
 "nbformat_minor": 5
}
