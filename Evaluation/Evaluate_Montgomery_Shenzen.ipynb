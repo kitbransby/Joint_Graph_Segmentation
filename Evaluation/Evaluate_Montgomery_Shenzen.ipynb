{
 "cells": [
  {
   "cell_type": "code",
   "execution_count": 6,
   "id": "7257c989",
   "metadata": {},
   "outputs": [
    {
     "name": "stdout",
     "output_type": "stream",
     "text": [
      "The autoreload extension is already loaded. To reload it, use:\n",
      "  %reload_ext autoreload\n"
     ]
    }
   ],
   "source": [
    "%load_ext autoreload\n",
    "%autoreload 2\n",
    "\n",
    "train_path = \"../Datasets/Montgomery_Shenzen/Train\"\n",
    "test_path = \"../Datasets/Montgomery_Shenzen/Test\"\n",
    "val_path = \"../Datasets/Montgomery_Shenzen/Val\" "
   ]
  },
  {
   "cell_type": "code",
   "execution_count": 7,
   "id": "026c39fe",
   "metadata": {},
   "outputs": [],
   "source": [
    "import sys \n",
    "sys.path.append('..')"
   ]
  },
  {
   "cell_type": "code",
   "execution_count": 8,
   "id": "6c6598d8-b59c-4776-996b-8f597d619639",
   "metadata": {},
   "outputs": [],
   "source": [
    "import torch\n",
    "import torch.nn.functional as F\n",
    "import numpy as np\n",
    "import random\n",
    "import time"
   ]
  },
  {
   "cell_type": "code",
   "execution_count": 9,
   "id": "02278c69",
   "metadata": {
    "tags": []
   },
   "outputs": [],
   "source": [
    "from models.hybridDoubleSkip import Hybrid as DoubleSkip\n",
    "from models.hybrid import Hybrid as Hybrid\n",
    "from models.joint import Joint\n",
    "from models.rasterize_finetune import Hybrid_Rasterize as Rasterize\n",
    "from models.unet_joint import UNet_Joint\n",
    "from models.unet import UNet\n",
    "from models.hourglass import Hourglass\n",
    "from models.hourglass_concat import Hourglass_Concat\n",
    "from models.multi_task import Multi_Task\n",
    "\n",
    "import os \n",
    "from torchvision import transforms\n",
    "from utils.dataLoader_XR import LandmarksDataset, ToTensor, Rescale\n",
    "from sklearn.metrics import mean_squared_error\n",
    "import scipy.sparse as sp\n",
    "from utils.utils import scipy_to_torch_sparse, genMatrixesLungs\n",
    "import pandas as pd\n",
    "from matplotlib import pyplot as plt\n",
    "import seaborn as sns"
   ]
  },
  {
   "cell_type": "code",
   "execution_count": 10,
   "id": "7084379a",
   "metadata": {
    "tags": []
   },
   "outputs": [],
   "source": [
    "img_path = os.path.join(test_path, 'Images')\n",
    "label_path = os.path.join(test_path, 'Landmarks')\n",
    "sdf_path = os.path.join(test_path, 'SDF')\n",
    "mask_path = os.path.join(test_path, 'Masks')\n",
    "test_dataset = LandmarksDataset(img_path=img_path,\n",
    "                                mask_path=mask_path,\n",
    "                                sdf_path = sdf_path,\n",
    "                                 label_path=label_path,\n",
    "                                 transform = transforms.Compose([\n",
    "                                             Rescale(1024),\n",
    "                                             ToTensor()])\n",
    "                                 )\n",
    "\n",
    "device = 'cuda:0'\n",
    "#device = 'cpu'"
   ]
  },
  {
   "cell_type": "code",
   "execution_count": 11,
   "id": "0e7fcbae-94df-408a-aaff-1f6905cd81a6",
   "metadata": {},
   "outputs": [],
   "source": [
    "A, AD, D, U, E, ED = genMatrixesLungs()\n",
    "\n",
    "A = sp.csc_matrix(A).tocoo()\n",
    "AD = sp.csc_matrix(AD).tocoo()\n",
    "D = sp.csc_matrix(D).tocoo()\n",
    "U = sp.csc_matrix(U).tocoo()\n",
    "\n",
    "D_ = [D.copy()]\n",
    "U_ = [U.copy()]\n",
    "A_ = [A.copy(), A.copy(), A.copy(), AD.copy(), AD.copy(), AD.copy()]\n",
    "\n",
    "config = {}\n",
    "config['n_nodes'] = [94, 94, 94, 47, 47, 47]\n",
    "\n",
    "A_t, D_t, U_t = ([scipy_to_torch_sparse(x).to(device) for x in X] for X in (A_, D_, U_))\n",
    "\n",
    "config['latents'] = 16\n",
    "config['inputsize'] = 1024\n",
    "\n",
    "f = 32\n",
    "config['filters'] = [2, f, f, f, f//2, f//2, f//2]\n",
    "config['skip_features'] = f\n",
    "\n",
    "config['window'] = (3,3)\n",
    "\n",
    "config['K'] = 6\n",
    "config['l1'] = 6\n",
    "config['l2'] = 5\n",
    "config['n_classes'] = 2"
   ]
  },
  {
   "cell_type": "code",
   "execution_count": 7,
   "id": "ca653800-a41f-47ad-b41d-c08d2cfb945f",
   "metadata": {
    "tags": []
   },
   "outputs": [
    {
     "name": "stdout",
     "output_type": "stream",
     "text": [
      "Model loaded\n",
      "Model loaded\n",
      "Model loaded\n"
     ]
    }
   ],
   "source": [
    "UNet_1 = UNet(n_classes = 2, rtn_all=False).to(device)\n",
    "UNet_1.load_state_dict(torch.load('../weights/Montgomery_Shenzen/UNet/1/bestDice.pt'))\n",
    "UNet_1.eval()\n",
    "print('Model loaded')\n",
    "\n",
    "UNet_2 = UNet(n_classes = 2, rtn_all=False).to(device)\n",
    "UNet_2.load_state_dict(torch.load('../weights/Montgomery_Shenzen/UNet/2/bestDice.pt'))\n",
    "UNet_2.eval()\n",
    "print('Model loaded')\n",
    "\n",
    "UNet_3 = UNet(n_classes = 2, rtn_all=False).to(device)\n",
    "UNet_3.load_state_dict(torch.load('../weights/Montgomery_Shenzen/UNet/3/bestDice.pt'))\n",
    "UNet_3.eval()\n",
    "print('Model loaded')"
   ]
  },
  {
   "cell_type": "code",
   "execution_count": 9,
   "id": "2595b7e5-9c9b-4576-bf63-1ee71db73b1f",
   "metadata": {},
   "outputs": [
    {
     "name": "stdout",
     "output_type": "stream",
     "text": [
      "Model loaded\n",
      "Model loaded\n",
      "Model loaded\n"
     ]
    }
   ],
   "source": [
    "config['unet_weights'] = '../weights/unet_weights/bestDice_Montgomery_Shenzen.pt'\n",
    "config['n_classes'] = 2\n",
    "config['rtn_all'] = False\n",
    "\n",
    "UNet_Joint_1 = UNet_Joint(config).to(device)\n",
    "UNet_Joint_1.load_state_dict(torch.load('../weights/Montgomery_Shenzen/UNet_Joint/1/bestDice.pt'))\n",
    "UNet_Joint_1.eval()\n",
    "print('Model loaded')\n",
    "\n",
    "UNet_Joint_2 = UNet_Joint(config).to(device)\n",
    "UNet_Joint_2.load_state_dict(torch.load('../weights/Montgomery_Shenzen/UNet_Joint/2/bestDice.pt'))\n",
    "UNet_Joint_2.eval()\n",
    "print('Model loaded')\n",
    "\n",
    "UNet_Joint_3 = UNet_Joint(config).to(device)\n",
    "UNet_Joint_3.load_state_dict(torch.load('../weights/Montgomery_Shenzen/UNet_Joint/3/bestDice.pt'))\n",
    "UNet_Joint_3.eval()\n",
    "print('Model loaded')"
   ]
  },
  {
   "cell_type": "code",
   "execution_count": 10,
   "id": "624b59cf-3146-4aab-96b6-b03aca1ca526",
   "metadata": {
    "tags": []
   },
   "outputs": [
    {
     "name": "stdout",
     "output_type": "stream",
     "text": [
      "Model loaded\n",
      "Model loaded\n",
      "Model loaded\n"
     ]
    }
   ],
   "source": [
    "HybridGNet_1 = Hybrid(config.copy(), D_t, U_t, A_t).to(device)\n",
    "HybridGNet_1.load_state_dict(torch.load(\"../weights/Montgomery_Shenzen/HybridGNet/1/bestMSE.pt\"))\n",
    "HybridGNet_1.eval()\n",
    "print('Model loaded')\n",
    "\n",
    "HybridGNet_2 = Hybrid(config.copy(), D_t, U_t, A_t).to(device)\n",
    "HybridGNet_2.load_state_dict(torch.load(\"../weights/Montgomery_Shenzen/HybridGNet/2/bestMSE.pt\"))\n",
    "HybridGNet_2.eval()\n",
    "print('Model loaded')\n",
    "\n",
    "HybridGNet_3 = Hybrid(config.copy(), D_t, U_t, A_t).to(device)\n",
    "HybridGNet_3.load_state_dict(torch.load(\"../weights/Montgomery_Shenzen/HybridGNet/3/bestMSE.pt\"))\n",
    "HybridGNet_3.eval()\n",
    "print('Model loaded')"
   ]
  },
  {
   "cell_type": "code",
   "execution_count": 11,
   "id": "bbb0eae5",
   "metadata": {
    "tags": []
   },
   "outputs": [
    {
     "name": "stdout",
     "output_type": "stream",
     "text": [
      "6-5\n",
      "Model loaded\n",
      "6-5\n",
      "Model loaded\n",
      "6-5\n",
      "Model loaded\n"
     ]
    }
   ],
   "source": [
    "config['l1'] = 6\n",
    "config['l2'] = 5\n",
    "\n",
    "HybridGNet_IGSC_1 = DoubleSkip(config.copy(), D_t, U_t, A_t).to(device)\n",
    "HybridGNet_IGSC_1.load_state_dict(torch.load(\"../weights/Montgomery_Shenzen/HybridGNet_IGSC/1/bestMSE.pt\"))\n",
    "HybridGNet_IGSC_1.eval()\n",
    "print('Model loaded')\n",
    "\n",
    "HybridGNet_IGSC_2 = DoubleSkip(config.copy(), D_t, U_t, A_t).to(device)\n",
    "HybridGNet_IGSC_2.load_state_dict(torch.load(\"../weights/Montgomery_Shenzen/HybridGNet_IGSC/2/bestMSE.pt\"))\n",
    "HybridGNet_IGSC_2.eval()\n",
    "print('Model loaded')\n",
    "\n",
    "HybridGNet_IGSC_3 = DoubleSkip(config.copy(), D_t, U_t, A_t).to(device)\n",
    "HybridGNet_IGSC_3.load_state_dict(torch.load(\"../weights/Montgomery_Shenzen/HybridGNet_IGSC/3/bestMSE.pt\"))\n",
    "HybridGNet_IGSC_3.eval()\n",
    "print('Model loaded')"
   ]
  },
  {
   "cell_type": "code",
   "execution_count": 12,
   "id": "b9ee023a-91a1-4ac6-b89a-03adb57e03ca",
   "metadata": {},
   "outputs": [
    {
     "name": "stdout",
     "output_type": "stream",
     "text": [
      "Encoder sizes:  [  8  16  32  64 128]\n",
      "Model loaded\n",
      "Encoder sizes:  [  8  16  32  64 128]\n",
      "Model loaded\n",
      "Encoder sizes:  [  8  16  32  64 128]\n",
      "Model loaded\n"
     ]
    }
   ],
   "source": [
    "config['unet_weights'] = '../weights/unet_weights/bestDice_Montgomery_Shenzen.pt'\n",
    "config['rtn_all'] = False\n",
    "\n",
    "Hourglass_1 = Hourglass(config.copy(), D_t, U_t, A_t).to(device)\n",
    "Hourglass_1.load_state_dict(torch.load(\"../weights/Montgomery_Shenzen/Hourglass/1/bestMSE.pt\"))\n",
    "Hourglass_1.eval()\n",
    "print('Model loaded')\n",
    "\n",
    "Hourglass_2 = Hourglass(config.copy(), D_t, U_t, A_t).to(device)\n",
    "Hourglass_2.load_state_dict(torch.load(\"../weights/Montgomery_Shenzen/Hourglass/2/bestMSE.pt\"))\n",
    "Hourglass_2.eval()\n",
    "print('Model loaded')\n",
    "\n",
    "Hourglass_3 = Hourglass(config.copy(), D_t, U_t, A_t).to(device)\n",
    "Hourglass_3.load_state_dict(torch.load(\"../weights/Montgomery_Shenzen/Hourglass/3/bestMSE.pt\"))\n",
    "Hourglass_3.eval()\n",
    "print('Model loaded')"
   ]
  },
  {
   "cell_type": "code",
   "execution_count": 13,
   "id": "2057cb36-ce2d-4dc8-b5e6-f265633c692b",
   "metadata": {},
   "outputs": [
    {
     "name": "stdout",
     "output_type": "stream",
     "text": [
      "Encoder sizes:  [  8  16  32  64 128]\n",
      "Model loaded\n",
      "Encoder sizes:  [  8  16  32  64 128]\n",
      "Model loaded\n",
      "Encoder sizes:  [  8  16  32  64 128]\n",
      "Model loaded\n"
     ]
    }
   ],
   "source": [
    "config['unet_weights'] = '../weights/unet_weights/bestDice_Montgomery_Shenzen.pt'\n",
    "config['rtn_all'] = False\n",
    "\n",
    "Hourglass_Concat_1 = Hourglass_Concat(config.copy(), D_t, U_t, A_t).to(device)\n",
    "Hourglass_Concat_1.load_state_dict(torch.load(\"../weights/Montgomery_Shenzen/Hourglass_Concat/1/bestMSE.pt\"))\n",
    "Hourglass_Concat_1.eval()\n",
    "print('Model loaded')\n",
    "\n",
    "Hourglass_Concat_2 = Hourglass_Concat(config.copy(), D_t, U_t, A_t).to(device)\n",
    "Hourglass_Concat_2.load_state_dict(torch.load(\"../weights/Montgomery_Shenzen/Hourglass_Concat/2/bestMSE.pt\"))\n",
    "Hourglass_Concat_2.eval()\n",
    "print('Model loaded')\n",
    "\n",
    "Hourglass_Concat_3 = Hourglass_Concat(config.copy(), D_t, U_t, A_t).to(device)\n",
    "Hourglass_Concat_3.load_state_dict(torch.load(\"../weights/Montgomery_Shenzen/Hourglass_Concat/3/bestMSE.pt\"))\n",
    "Hourglass_Concat_3.eval()\n",
    "print('Model loaded')"
   ]
  },
  {
   "cell_type": "code",
   "execution_count": 12,
   "id": "a4588661-a24c-4dd9-8f03-6ea7a0d24288",
   "metadata": {},
   "outputs": [
    {
     "name": "stdout",
     "output_type": "stream",
     "text": [
      "Encoder sizes:  [  8  16  32  64 128]\n",
      "Model loaded\n",
      "Encoder sizes:  [  8  16  32  64 128]\n",
      "Model loaded\n",
      "Encoder sizes:  [  8  16  32  64 128]\n",
      "Model loaded\n"
     ]
    }
   ],
   "source": [
    "Multi_Task_1 = Multi_Task(config.copy(), D_t, U_t, A_t).to(device)\n",
    "Multi_Task_1.load_state_dict(torch.load(\"../weights/Montgomery_Shenzen/Multi_Task/1/bestMSE.pt\"))\n",
    "Multi_Task_1.eval()\n",
    "print('Model loaded')\n",
    "\n",
    "Multi_Task_2 = Multi_Task(config.copy(), D_t, U_t, A_t).to(device)\n",
    "Multi_Task_2.load_state_dict(torch.load(\"../weights/Montgomery_Shenzen/Multi_Task/2/bestMSE.pt\"))\n",
    "Multi_Task_2.eval()\n",
    "print('Model loaded')\n",
    "\n",
    "Multi_Task_3 = Multi_Task(config.copy(), D_t, U_t, A_t).to(device)\n",
    "Multi_Task_3.load_state_dict(torch.load(\"../weights/Montgomery_Shenzen/Multi_Task/3/bestMSE.pt\"))\n",
    "Multi_Task_3.eval()\n",
    "print('Model loaded')"
   ]
  },
  {
   "cell_type": "code",
   "execution_count": 14,
   "id": "7579010c-9db8-4439-adf2-f05a32e9a2f1",
   "metadata": {
    "tags": []
   },
   "outputs": [
    {
     "name": "stdout",
     "output_type": "stream",
     "text": [
      "6-5\n",
      "Model loaded\n",
      "6-5\n",
      "Model loaded\n",
      "6-5\n",
      "Model loaded\n"
     ]
    }
   ],
   "source": [
    "config['l1'] = 6\n",
    "config['l2'] = 5\n",
    "\n",
    "HCD_1 = DoubleSkip(config.copy(), D_t, U_t, A_t).to(device)\n",
    "HCD_1.load_state_dict(torch.load(\"../weights/Montgomery_Shenzen/HCD/1/bestMSE.pt\"))\n",
    "HCD_1.eval()\n",
    "print('Model loaded')\n",
    "\n",
    "HCD_2 = DoubleSkip(config.copy(), D_t, U_t, A_t).to(device)\n",
    "HCD_2.load_state_dict(torch.load(\"../weights/Montgomery_Shenzen/HCD/2/bestMSE.pt\"))\n",
    "HCD_2.eval()\n",
    "print('Model loaded')\n",
    "\n",
    "HCD_3 = DoubleSkip(config.copy(), D_t, U_t, A_t).to(device)\n",
    "HCD_3.load_state_dict(torch.load(\"../weights/Montgomery_Shenzen/HCD/3/bestMSE.pt\"))\n",
    "HCD_3.eval()\n",
    "print('Model loaded')"
   ]
  },
  {
   "cell_type": "code",
   "execution_count": 15,
   "id": "b38f3b6b-d6ce-4cb1-b948-e040ef39f5a4",
   "metadata": {
    "tags": []
   },
   "outputs": [
    {
     "name": "stdout",
     "output_type": "stream",
     "text": [
      "Encoder sizes:  [  8  16  32  64 128]\n",
      "Model loaded\n",
      "Encoder sizes:  [  8  16  32  64 128]\n",
      "Model loaded\n",
      "Encoder sizes:  [  8  16  32  64 128]\n",
      "Model loaded\n"
     ]
    }
   ],
   "source": [
    "config['unet_weights'] = '../weights/unet_weights/bestDice_Montgomery_Shenzen.pt'\n",
    "\n",
    "Joint_1 = Joint(config.copy(), D_t, U_t, A_t).to(device)\n",
    "Joint_1.load_state_dict(torch.load(\"../weights/Montgomery_Shenzen/Joint/1/bestMSE.pt\"))\n",
    "Joint_1.eval()\n",
    "print('Model loaded')\n",
    "\n",
    "Joint_2 = Joint(config.copy(), D_t, U_t, A_t).to(device)\n",
    "Joint_2.load_state_dict(torch.load(\"../weights/Montgomery_Shenzen/Joint/2/bestMSE.pt\"))\n",
    "Joint_2.eval()\n",
    "print('Model loaded')\n",
    "\n",
    "Joint_3 = Joint(config.copy(), D_t, U_t, A_t).to(device)\n",
    "Joint_3.load_state_dict(torch.load(\"../weights/Montgomery_Shenzen/Joint/3/bestMSE.pt\"))\n",
    "Joint_3.eval()\n",
    "print('Model loaded')"
   ]
  },
  {
   "cell_type": "code",
   "execution_count": 16,
   "id": "e0bc68e6-c524-4ed7-b48d-1b20e28d7a80",
   "metadata": {},
   "outputs": [
    {
     "name": "stdout",
     "output_type": "stream",
     "text": [
      "Encoder sizes:  [  8  16  32  64 128]\n",
      "Model loaded\n",
      "Encoder sizes:  [  8  16  32  64 128]\n",
      "Model loaded\n",
      "Encoder sizes:  [  8  16  32  64 128]\n",
      "Model loaded\n"
     ]
    }
   ],
   "source": [
    "config['unet_weights'] = '../weights/unet_weights/bestDice_Montgomery_Shenzen.pt'\n",
    "config['rtn_all'] = True\n",
    "\n",
    "Joint_HCD_1 = Joint(config.copy(), D_t, U_t, A_t).to(device)\n",
    "Joint_HCD_1.load_state_dict(torch.load(\"../weights/Montgomery_Shenzen/Joint_HCD/1/bestMSE.pt\"))\n",
    "Joint_HCD_1.eval()\n",
    "print('Model loaded')\n",
    "\n",
    "Joint_HCD_2 = Joint(config.copy(), D_t, U_t, A_t).to(device)\n",
    "Joint_HCD_2.load_state_dict(torch.load(\"../weights/Montgomery_Shenzen/Joint_HCD/2/bestMSE.pt\"))\n",
    "Joint_HCD_2.eval()\n",
    "print('Model loaded')\n",
    "\n",
    "Joint_HCD_3 = Joint(config.copy(), D_t, U_t, A_t).to(device)\n",
    "Joint_HCD_3.load_state_dict(torch.load(\"../weights/Montgomery_Shenzen/Joint_HCD/3/bestMSE.pt\"))\n",
    "Joint_HCD_3.eval()\n",
    "print('Model loaded')"
   ]
  },
  {
   "cell_type": "code",
   "execution_count": 17,
   "id": "e727b161-4902-4b09-804a-e126b75b0d9f",
   "metadata": {},
   "outputs": [
    {
     "name": "stdout",
     "output_type": "stream",
     "text": [
      "6-5\n",
      "Model loaded\n",
      "6-5\n",
      "Model loaded\n",
      "6-5\n",
      "Model loaded\n"
     ]
    }
   ],
   "source": [
    "config['load'] = '../weights/hybridgnet_weights/bestMSE_Montgomery_Shenzen.pt'\n",
    "\n",
    "Rasterize_1 = Rasterize(config.copy(), D_t, U_t, A_t).to(device)\n",
    "Rasterize_1.load_state_dict(torch.load(\"../weights/Montgomery_Shenzen/Rasterize/1/bestMSE.pt\"))\n",
    "Rasterize_1.eval()\n",
    "print('Model loaded')\n",
    "\n",
    "Rasterize_2 = Rasterize(config.copy(), D_t, U_t, A_t).to(device)\n",
    "Rasterize_2.load_state_dict(torch.load(\"../weights/Montgomery_Shenzen/Rasterize/2/bestMSE.pt\"))\n",
    "Rasterize_2.eval()\n",
    "print('Model loaded')\n",
    "\n",
    "Rasterize_3 = Rasterize(config.copy(), D_t, U_t, A_t).to(device)\n",
    "Rasterize_3.load_state_dict(torch.load(\"../weights/Montgomery_Shenzen/Rasterize/3/bestMSE.pt\"))\n",
    "Rasterize_3.eval()\n",
    "print('Model loaded')"
   ]
  },
  {
   "cell_type": "code",
   "execution_count": 13,
   "id": "4e629901-950c-484c-8b8f-35886c9c3a4c",
   "metadata": {},
   "outputs": [],
   "source": [
    "segModels = ['UNet_1', 'UNet_2', 'UNet_3', \n",
    "             'UNet_Joint_1', 'UNet_Joint_2', 'UNet_Joint_3', \n",
    "             'DiffRast_1', 'DiffRast_2', 'DiffRast_3']\n",
    "regModels = ['HybridGNet_1', 'HybridGNet_2', 'HybridGNet_3',\n",
    "             'HybridGNet_IGSC_1', 'HybridGNet_IGSC_2', 'HybridGNet_IGSC_3', \n",
    "             'Hourglass_1', 'Hourglass_2', 'Hourglass_3',\n",
    "             'Hourglass_Concat_1', 'Hourglass_Concat_2', 'Hourglass_Concat_3',\n",
    "             'Multi_Task_1', 'Multi_Task_2', 'Multi_Task_3',\n",
    "             'Joint_HCD_1', 'Joint_HCD_2', 'Joint_HCD_3', \n",
    "             'Joint_1', 'Joint_2', 'Joint_3',  \n",
    "             'HCD_1', 'HCD_2', 'HCD_3']"
   ]
  },
  {
   "cell_type": "code",
   "execution_count": null,
   "id": "0719e65b-30ba-4f0e-836e-2c8cb2e4b284",
   "metadata": {},
   "outputs": [],
   "source": []
  },
  {
   "cell_type": "code",
   "execution_count": 14,
   "id": "9accf2f9-b622-4010-8c00-7c3f35a7e62b",
   "metadata": {},
   "outputs": [],
   "source": [
    "model_list = [Multi_Task_1, Multi_Task_2, Multi_Task_3]\n",
    "model_names = ['Multi_Task_1', 'Multi_Task_2', 'Multi_Task_3']\n",
    "save_output = True"
   ]
  },
  {
   "cell_type": "markdown",
   "id": "e3ddfe9a-f58a-4a07-823c-db1c44a7f68a",
   "metadata": {},
   "source": [
    "## Calc Regression Metrics"
   ]
  },
  {
   "cell_type": "code",
   "execution_count": 15,
   "id": "9c820fbd-a01a-4531-aa4f-61e973d56475",
   "metadata": {},
   "outputs": [
    {
     "name": "stdout",
     "output_type": "stream",
     "text": [
      " 79 of 79"
     ]
    }
   ],
   "source": [
    "results1 = pd.DataFrame()\n",
    "\n",
    "for i in range(0, len(test_dataset.images)):   \n",
    "    print('\\r',i+1,'of', len(test_dataset.images),end='')\n",
    "    with torch.no_grad():\n",
    "        sample = test_dataset[i]\n",
    "\n",
    "        data, target = sample['image'], sample['landmarks']\n",
    "        data = torch.unsqueeze(data, 0).to(device)\n",
    "        target =  target.reshape(-1).numpy()\n",
    "        \n",
    "        for j in range(0, len(model_list)):\n",
    "            \n",
    "            start = time.time()\n",
    "            output = model_list[j](data)\n",
    "            end = time.time()\n",
    "            inference = end - start\n",
    "            \n",
    "            if model_names[j] in regModels:\n",
    "                \n",
    "                output_ = output[0]\n",
    "                \n",
    "                # calc mse\n",
    "                output_ = output_.cpu().numpy().reshape(-1)\n",
    "                error = mean_squared_error(target * 1024, output_ * 1024)\n",
    "                aux = pd.DataFrame([[i, error, inference, model_names[j]]], columns=['i','MSE', 'Inference', 'Model'])\n",
    "                results1 = pd.concat([results1,aux], ignore_index = True)\n",
    "            \n",
    "            elif model_names[j] in segModels:\n",
    "                aux = pd.DataFrame([[i, np.nan, inference, model_names[j]]], columns=['i','MSE', 'Inference', 'Model'])\n",
    "                results1 = pd.concat([results1,aux], ignore_index = True)\n",
    "                \n",
    "            else:\n",
    "                print('\\n', model_names[j], 'is not categorised in as a reg, seg or both model')"
   ]
  },
  {
   "cell_type": "code",
   "execution_count": 16,
   "id": "56f5648b-df34-4379-bbbf-8b9fec7fcc7d",
   "metadata": {},
   "outputs": [
    {
     "name": "stdout",
     "output_type": "stream",
     "text": [
      "------------ MSE ------------\n",
      "Multi_Task_1 : 117.936 MSE   0.05359 Inference speed (s)\n",
      "Multi_Task_2 : 122.626 MSE   0.05350 Inference speed (s)\n",
      "Multi_Task_3 : 114.039 MSE   0.05336 Inference speed (s)\n"
     ]
    }
   ],
   "source": [
    "print('------------ MSE ------------')\n",
    "for j in range(0, len(model_list)):\n",
    "    inference_speed = results1[results1['Model'] == model_names[j]]['Inference'].mean()\n",
    "    mse_score = results1[results1['Model'] == model_names[j]]['MSE'].mean()\n",
    "    print(model_names[j], ': %.3f MSE   %.5f Inference speed (s)' % (mse_score, inference_speed))"
   ]
  },
  {
   "cell_type": "markdown",
   "id": "41f3cebc-da92-4645-8ef7-3be029826edb",
   "metadata": {},
   "source": [
    "## Calc Segmentation Metrics"
   ]
  },
  {
   "cell_type": "code",
   "execution_count": 17,
   "id": "2a37ddb8",
   "metadata": {
    "tags": []
   },
   "outputs": [],
   "source": [
    "from medpy.metric import dc, hd, assd, jc, asd\n",
    "from utils.fun import reverseVector, drawBinary"
   ]
  },
  {
   "cell_type": "code",
   "execution_count": 18,
   "id": "1515c09f-e279-4170-b41a-ddcf72c2ad9f",
   "metadata": {},
   "outputs": [],
   "source": [
    "def evalImageMetrics(blank, output, target):\n",
    "    p1, p2, h, c1, c2 = reverseVector(output)\n",
    "    \n",
    "    ptest = drawBinary(blank.copy(), p1)\n",
    "    ptest = drawBinary(ptest, p2)\n",
    "\n",
    "    hdp = hd(ptest, target, voxelspacing = 0.35)\n",
    "    dcp = dc(ptest, target)\n",
    "    jcp = jc(ptest, target)\n",
    "    \n",
    "    return [dcp, hdp, jcp], ptest\n",
    "\n",
    "def evalImageMetricsUNet(output, target_lungs):\n",
    "    dcp = dc(output == 1, target_lungs)    \n",
    "    hdp = hd(output == 1, target_lungs, voxelspacing = 0.35)\n",
    "    jcp = jc(output == 1, target_lungs)\n",
    "    \n",
    "    return [dcp, hdp, jcp]"
   ]
  },
  {
   "cell_type": "code",
   "execution_count": 19,
   "id": "ee3815af-ff33-4f6b-a72d-cf5b7dfaffb9",
   "metadata": {},
   "outputs": [
    {
     "name": "stdout",
     "output_type": "stream",
     "text": [
      " 79 of 79"
     ]
    }
   ],
   "source": [
    "blank = np.zeros([1024, 1024])\n",
    "\n",
    "results = pd.DataFrame()\n",
    "\n",
    "for i in range(0, len(test_dataset.images)):\n",
    "    print('\\r',i+1,'of', len(test_dataset.images),end='')\n",
    "    with torch.no_grad():\n",
    "        sample = test_dataset[i]\n",
    "\n",
    "        data, mask = sample['image'], sample['mask'].numpy()\n",
    "        \n",
    "        data = torch.unsqueeze(data, 0).to(device)\n",
    "        \n",
    "        for j in range(0, len(model_list)):\n",
    "            output = model_list[j](data)\n",
    "            \n",
    "               \n",
    "            if model_names[j] in segModels:\n",
    "                if isinstance(output, tuple):\n",
    "                    if len(output) == 2:\n",
    "                        output = output[1] # if model is dual we choose the second output \n",
    "                    elif len(output) == 3:\n",
    "                        output = output[0] # if DiffRast model\n",
    "                        #output = F.interpolate(output.unsqueeze(0), (1024,1024))\n",
    "                \n",
    "                seg = torch.argmax(output[0,:,:,:], axis = 0).cpu().numpy()\n",
    "                np.save('Montgomery_Shenzen/Predictions/'+model_names[j][:-2]+'/'+model_names[j][-1]+'/'+test_dataset.images[i].split('/')[-1].replace('.png', '.npy'), seg)\n",
    "                \n",
    "                metrics = evalImageMetricsUNet(seg, mask)\n",
    "                aux = pd.DataFrame([[i, model_names[j]] + metrics], columns=['i','Model','Dice','HD','Jaccard'])\n",
    "                results = pd.concat([results, aux], ignore_index = True)\n",
    "                \n",
    "            elif model_names[j] in regModels:\n",
    "                output_ = output[0]\n",
    "                output_ = output_.cpu().numpy().reshape(-1) \n",
    "                metrics, seg = evalImageMetrics(blank, output_ * 1024, mask)                \n",
    "                np.save('Montgomery_Shenzen/Predictions/'+model_names[j][:-2]+'/'+model_names[j][-1]+'/'+test_dataset.images[i].split('/')[-1].replace('.png', '.npy'), seg)\n",
    "                \n",
    "                aux = pd.DataFrame([[i, model_names[j]] + metrics], columns=['i','Model','Dice','HD','Jaccard'])\n",
    "                results = pd.concat([results, aux], ignore_index = True)\n",
    "            \n",
    "            else:\n",
    "                print('\\n', model_names[j], 'has no category..')"
   ]
  },
  {
   "cell_type": "code",
   "execution_count": 20,
   "id": "38780d0b-d841-495c-81df-c03ac5b0b98b",
   "metadata": {
    "tags": []
   },
   "outputs": [
    {
     "data": {
      "text/html": [
       "<div>\n",
       "<style scoped>\n",
       "    .dataframe tbody tr th:only-of-type {\n",
       "        vertical-align: middle;\n",
       "    }\n",
       "\n",
       "    .dataframe tbody tr th {\n",
       "        vertical-align: top;\n",
       "    }\n",
       "\n",
       "    .dataframe thead th {\n",
       "        text-align: right;\n",
       "    }\n",
       "</style>\n",
       "<table border=\"1\" class=\"dataframe\">\n",
       "  <thead>\n",
       "    <tr style=\"text-align: right;\">\n",
       "      <th></th>\n",
       "      <th>i</th>\n",
       "      <th>Model</th>\n",
       "      <th>Dice</th>\n",
       "      <th>HD</th>\n",
       "      <th>Jaccard</th>\n",
       "    </tr>\n",
       "  </thead>\n",
       "  <tbody>\n",
       "    <tr>\n",
       "      <th>0</th>\n",
       "      <td>0</td>\n",
       "      <td>Multi_Task_1</td>\n",
       "      <td>0.959016</td>\n",
       "      <td>21.969297</td>\n",
       "      <td>0.921258</td>\n",
       "    </tr>\n",
       "    <tr>\n",
       "      <th>1</th>\n",
       "      <td>0</td>\n",
       "      <td>Multi_Task_2</td>\n",
       "      <td>0.965166</td>\n",
       "      <td>19.106282</td>\n",
       "      <td>0.932676</td>\n",
       "    </tr>\n",
       "    <tr>\n",
       "      <th>2</th>\n",
       "      <td>0</td>\n",
       "      <td>Multi_Task_3</td>\n",
       "      <td>0.962822</td>\n",
       "      <td>19.361043</td>\n",
       "      <td>0.928309</td>\n",
       "    </tr>\n",
       "    <tr>\n",
       "      <th>3</th>\n",
       "      <td>1</td>\n",
       "      <td>Multi_Task_1</td>\n",
       "      <td>0.961838</td>\n",
       "      <td>24.472485</td>\n",
       "      <td>0.926482</td>\n",
       "    </tr>\n",
       "    <tr>\n",
       "      <th>4</th>\n",
       "      <td>1</td>\n",
       "      <td>Multi_Task_2</td>\n",
       "      <td>0.969198</td>\n",
       "      <td>24.177882</td>\n",
       "      <td>0.940237</td>\n",
       "    </tr>\n",
       "    <tr>\n",
       "      <th>...</th>\n",
       "      <td>...</td>\n",
       "      <td>...</td>\n",
       "      <td>...</td>\n",
       "      <td>...</td>\n",
       "      <td>...</td>\n",
       "    </tr>\n",
       "    <tr>\n",
       "      <th>232</th>\n",
       "      <td>77</td>\n",
       "      <td>Multi_Task_2</td>\n",
       "      <td>0.976074</td>\n",
       "      <td>7.383258</td>\n",
       "      <td>0.953266</td>\n",
       "    </tr>\n",
       "    <tr>\n",
       "      <th>233</th>\n",
       "      <td>77</td>\n",
       "      <td>Multi_Task_3</td>\n",
       "      <td>0.983877</td>\n",
       "      <td>6.202016</td>\n",
       "      <td>0.968265</td>\n",
       "    </tr>\n",
       "    <tr>\n",
       "      <th>234</th>\n",
       "      <td>78</td>\n",
       "      <td>Multi_Task_1</td>\n",
       "      <td>0.981497</td>\n",
       "      <td>5.867069</td>\n",
       "      <td>0.963666</td>\n",
       "    </tr>\n",
       "    <tr>\n",
       "      <th>235</th>\n",
       "      <td>78</td>\n",
       "      <td>Multi_Task_2</td>\n",
       "      <td>0.979442</td>\n",
       "      <td>7.919596</td>\n",
       "      <td>0.959712</td>\n",
       "    </tr>\n",
       "    <tr>\n",
       "      <th>236</th>\n",
       "      <td>78</td>\n",
       "      <td>Multi_Task_3</td>\n",
       "      <td>0.978799</td>\n",
       "      <td>6.903079</td>\n",
       "      <td>0.958478</td>\n",
       "    </tr>\n",
       "  </tbody>\n",
       "</table>\n",
       "<p>237 rows × 5 columns</p>\n",
       "</div>"
      ],
      "text/plain": [
       "      i         Model      Dice         HD   Jaccard\n",
       "0     0  Multi_Task_1  0.959016  21.969297  0.921258\n",
       "1     0  Multi_Task_2  0.965166  19.106282  0.932676\n",
       "2     0  Multi_Task_3  0.962822  19.361043  0.928309\n",
       "3     1  Multi_Task_1  0.961838  24.472485  0.926482\n",
       "4     1  Multi_Task_2  0.969198  24.177882  0.940237\n",
       "..   ..           ...       ...        ...       ...\n",
       "232  77  Multi_Task_2  0.976074   7.383258  0.953266\n",
       "233  77  Multi_Task_3  0.983877   6.202016  0.968265\n",
       "234  78  Multi_Task_1  0.981497   5.867069  0.963666\n",
       "235  78  Multi_Task_2  0.979442   7.919596  0.959712\n",
       "236  78  Multi_Task_3  0.978799   6.903079  0.958478\n",
       "\n",
       "[237 rows x 5 columns]"
      ]
     },
     "execution_count": 20,
     "metadata": {},
     "output_type": "execute_result"
    }
   ],
   "source": [
    "results.to_pickle('Montgomery_Shenzen/Scores/' + model_names[0][:-2] + '_scores.pkl')\n",
    "results"
   ]
  },
  {
   "cell_type": "code",
   "execution_count": 21,
   "id": "149273d4",
   "metadata": {
    "tags": []
   },
   "outputs": [
    {
     "data": {
      "image/png": "[encoded data removed]",
      "text/plain": [
       "<Figure size 1000x500 with 3 Axes>"
      ]
     },
     "metadata": {},
     "output_type": "display_data"
    },
    {
     "name": "stdout",
     "output_type": "stream",
     "text": [
      "Dice\n",
      "Multi_Task_1 0.9688 +- 0.0173\n",
      "Multi_Task_2 0.9696 +- 0.0129\n",
      "Multi_Task_3 0.9708 +- 0.0135\n",
      "\n",
      "Hausdorff\n",
      "Multi_Task_1 10.9185 +- 6.2968\n",
      "Multi_Task_2 11.0614 +- 6.3881\n",
      "Multi_Task_3 10.6047 +- 6.4678\n",
      "\n",
      "Jaccard\n",
      "Multi_Task_1 0.9400 +- 0.0301\n",
      "Multi_Task_2 0.9413 +- 0.0236\n",
      "Multi_Task_3 0.9437 +- 0.0246\n",
      "\n"
     ]
    }
   ],
   "source": [
    "import matplotlib.ticker as mticker\n",
    "\n",
    "results['Dice Average'] = results[['Dice', 'Dice']].mean(axis=1)\n",
    "results['HD Average'] = results[['HD', 'HD']].mean(axis=1)\n",
    "results['Jaccard Average'] = results[['Jaccard', 'Jaccard']].mean(axis=1)\n",
    "\n",
    "plt.figure(figsize = (10,5))\n",
    "plt.tight_layout()\n",
    "ax = plt.subplot(1,3,1)\n",
    "sns.boxplot(x = 'Model', y = 'Dice Average', data = results, showmeans = True)\n",
    "plt.xticks(rotation=25, ha=\"right\" )\n",
    "plt.ylabel('Dice')\n",
    "plt.title('Dice Average')\n",
    "plt.xlabel(None)\n",
    "\n",
    "ax = plt.subplot(1,3,2)\n",
    "sns.boxplot(x = 'Model', y = 'HD Average', data = results, showmeans = True)\n",
    "plt.xticks(rotation=25, ha=\"right\" )\n",
    "plt.ylabel('HD (mm)')\n",
    "plt.title('Hausdorff Distance')\n",
    "plt.xlabel(None)\n",
    "\n",
    "ax = plt.subplot(1,3,3)\n",
    "sns.boxplot(x = 'Model', y = 'Jaccard Average', data = results, showmeans = True)\n",
    "plt.xticks(rotation=25, ha=\"right\" )\n",
    "plt.ylabel('Jaccard')\n",
    "plt.title('Jaccard Distance')\n",
    "plt.xlabel(None)\n",
    "\n",
    "plt.tight_layout()\n",
    "#plt.savefig('figs/num3.png', dpi=300)\n",
    "plt.show()\n",
    "\n",
    "print('Dice')\n",
    "for model in model_names:\n",
    "    print(model, '%.4f'%np.mean(results['Dice Average'][results['Model'] == model]), '+- %.4f' % np.std(results['Dice Average'][results['Model'] == model]))\n",
    "\n",
    "print('')\n",
    "\n",
    "print('Hausdorff')\n",
    "for model in model_names:\n",
    "    print(model, '%.4f'%np.mean(results['HD Average'][results['Model'] == model]), '+- %.4f' % np.std(results['HD Average'][results['Model'] == model]))\n",
    "\n",
    "print('')\n",
    "\n",
    "print('Jaccard')\n",
    "for model in model_names:\n",
    "    print(model, '%.4f'%np.mean(results['Jaccard Average'][results['Model'] == model]), '+- %.4f' % np.std(results['Jaccard Average'][results['Model'] == model]))\n",
    "\n",
    "print('')"
   ]
  },
  {
   "cell_type": "code",
   "execution_count": null,
   "id": "bded68de-d602-4641-80e4-bae90e0c20e9",
   "metadata": {},
   "outputs": [],
   "source": []
  },
  {
   "cell_type": "code",
   "execution_count": null,
   "id": "ff52e61f-ccda-4a63-978b-be21f3cb24cd",
   "metadata": {},
   "outputs": [],
   "source": []
  }
 ],
 "metadata": {
  "kernelspec": {
   "display_name": "Python [conda env:deformable_detr]",
   "language": "python",
   "name": "conda-env-deformable_detr-py"
  },
  "language_info": {
   "codemirror_mode": {
    "name": "ipython",
    "version": 3
   },
   "file_extension": ".py",
   "mimetype": "text/x-python",
   "name": "python",
   "nbconvert_exporter": "python",
   "pygments_lexer": "ipython3",
   "version": "3.7.15"
  }
 },
 "nbformat": 4,
 "nbformat_minor": 5
}
