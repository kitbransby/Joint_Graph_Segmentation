{
 "cells": [
  {
   "cell_type": "code",
   "execution_count": 1,
   "id": "7257c989",
   "metadata": {},
   "outputs": [],
   "source": [
    "%load_ext autoreload\n",
    "%autoreload 2\n",
    "\n",
    "train_path = \"../Datasets/JSRT_Padchest/Train\"\n",
    "test_path = \"../Datasets/JSRT_Padchest/Test\"\n",
    "val_path = \"../Datasets/JSRT_Padchest/Val\" "
   ]
  },
  {
   "cell_type": "code",
   "execution_count": 2,
   "id": "026c39fe",
   "metadata": {},
   "outputs": [],
   "source": [
    "import sys \n",
    "sys.path.append('..')"
   ]
  },
  {
   "cell_type": "code",
   "execution_count": 3,
   "id": "6c6598d8-b59c-4776-996b-8f597d619639",
   "metadata": {},
   "outputs": [
    {
     "name": "stderr",
     "output_type": "stream",
     "text": [
      "/home/kit/anaconda3/envs/deformable_detr/lib/python3.7/site-packages/tqdm/auto.py:22: TqdmWarning: IProgress not found. Please update jupyter and ipywidgets. See https://ipywidgets.readthedocs.io/en/stable/user_install.html\n",
      "  from .autonotebook import tqdm as notebook_tqdm\n"
     ]
    }
   ],
   "source": [
    "import torch\n",
    "import torch.nn.functional as F\n",
    "import numpy as np\n",
    "import random\n",
    "import time"
   ]
  },
  {
   "cell_type": "code",
   "execution_count": 4,
   "id": "02278c69",
   "metadata": {
    "tags": []
   },
   "outputs": [],
   "source": [
    "from models.hybridDoubleSkip import Hybrid as DoubleSkip\n",
    "from models.hybrid import Hybrid as Hybrid\n",
    "from models.joint import Joint\n",
    "from models.rasterize_finetune import Hybrid_Rasterize as Rasterize\n",
    "from models.unet_joint import UNet_Joint\n",
    "from models.unet import UNet\n",
    "from models.hourglass import Hourglass\n",
    "from models.hourglass_concat import Hourglass_Concat\n",
    "from models.multi_task import Multi_Task\n",
    "\n",
    "\n",
    "import os \n",
    "from torchvision import transforms\n",
    "from utils.dataLoader_XR import LandmarksDataset, ToTensor, Rescale\n",
    "from sklearn.metrics import mean_squared_error\n",
    "import scipy.sparse as sp\n",
    "from utils.utils import scipy_to_torch_sparse, genMatrixesLH\n",
    "import pandas as pd\n",
    "from matplotlib import pyplot as plt\n",
    "import seaborn as sns"
   ]
  },
  {
   "cell_type": "code",
   "execution_count": 5,
   "id": "7084379a",
   "metadata": {
    "tags": []
   },
   "outputs": [],
   "source": [
    "img_path = os.path.join(test_path, 'Images')\n",
    "label_path = os.path.join(test_path, 'Landmarks')\n",
    "sdf_path = os.path.join(test_path, 'SDF')\n",
    "mask_path = os.path.join(test_path, 'Masks')\n",
    "test_dataset = LandmarksDataset(img_path=img_path,\n",
    "                                mask_path=mask_path,\n",
    "                                sdf_path = sdf_path,\n",
    "                                 label_path=label_path,\n",
    "                                 transform = transforms.Compose([\n",
    "                                             Rescale(1024),\n",
    "                                             ToTensor()])\n",
    "                                 )\n",
    "\n",
    "device = 'cuda:0'\n",
    "#device = 'cpu'"
   ]
  },
  {
   "cell_type": "code",
   "execution_count": 6,
   "id": "0e7fcbae-94df-408a-aaff-1f6905cd81a6",
   "metadata": {},
   "outputs": [],
   "source": [
    "A, AD, D, U, E, ED = genMatrixesLH()\n",
    "\n",
    "A = sp.csc_matrix(A).tocoo()\n",
    "AD = sp.csc_matrix(AD).tocoo()\n",
    "D = sp.csc_matrix(D).tocoo()\n",
    "U = sp.csc_matrix(U).tocoo()\n",
    "\n",
    "D_ = [D.copy()]\n",
    "U_ = [U.copy()]\n",
    "A_ = [A.copy(), A.copy(), A.copy(), AD.copy(), AD.copy(), AD.copy()]\n",
    "\n",
    "config = {}\n",
    "config['n_nodes'] = [120, 120, 120, 60, 60, 60]\n",
    "\n",
    "A_t, D_t, U_t = ([scipy_to_torch_sparse(x).to(device) for x in X] for X in (A_, D_, U_))\n",
    "\n",
    "config['latents'] = 16\n",
    "config['inputsize'] = 1024\n",
    "\n",
    "f = 32\n",
    "config['filters'] = [2, f, f, f, f//2, f//2, f//2]\n",
    "config['skip_features'] = f\n",
    "\n",
    "config['window'] = (3,3)\n",
    "\n",
    "config['K'] = 6\n",
    "config['l1'] = 6\n",
    "config['l2'] = 5\n",
    "config['n_classes'] = 3"
   ]
  },
  {
   "cell_type": "code",
   "execution_count": 11,
   "id": "624b59cf-3146-4aab-96b6-b03aca1ca526",
   "metadata": {},
   "outputs": [
    {
     "name": "stdout",
     "output_type": "stream",
     "text": [
      "Model loaded\n",
      "Model loaded\n",
      "Model loaded\n"
     ]
    }
   ],
   "source": [
    "HybridGNet_1 = Hybrid(config.copy(), D_t, U_t, A_t).to(device)\n",
    "HybridGNet_1.load_state_dict(torch.load(\"../weights/JSRT_Padchest/HybridGNet/1/bestMSE.pt\"))\n",
    "HybridGNet_1.eval()\n",
    "print('Model loaded')\n",
    "\n",
    "HybridGNet_2 = Hybrid(config.copy(), D_t, U_t, A_t).to(device)\n",
    "HybridGNet_2.load_state_dict(torch.load(\"../weights/JSRT_Padchest/HybridGNet/2/bestMSE.pt\"))\n",
    "HybridGNet_2.eval()\n",
    "print('Model loaded')\n",
    "\n",
    "HybridGNet_3 = Hybrid(config.copy(), D_t, U_t, A_t).to(device)\n",
    "HybridGNet_3.load_state_dict(torch.load(\"../weights/JSRT_Padchest/HybridGNet/3/bestMSE.pt\"))\n",
    "HybridGNet_3.eval()\n",
    "print('Model loaded')"
   ]
  },
  {
   "cell_type": "code",
   "execution_count": 13,
   "id": "bbb0eae5",
   "metadata": {
    "tags": []
   },
   "outputs": [
    {
     "name": "stdout",
     "output_type": "stream",
     "text": [
      "6-5\n",
      "Model loaded\n",
      "6-5\n",
      "Model loaded\n",
      "6-5\n",
      "Model loaded\n"
     ]
    }
   ],
   "source": [
    "config['l1'] = 6\n",
    "config['l2'] = 5\n",
    "config['latents'] = 64\n",
    "\n",
    "HybridGNet_IGSC_1 = DoubleSkip(config.copy(), D_t, U_t, A_t).to(device)\n",
    "HybridGNet_IGSC_1.load_state_dict(torch.load(\"../weights/JSRT_Padchest/HybridGNet_IGSC/1/bestMSE.pt\"))\n",
    "HybridGNet_IGSC_1.eval()\n",
    "print('Model loaded')\n",
    "\n",
    "HybridGNet_IGSC_2 = DoubleSkip(config.copy(), D_t, U_t, A_t).to(device)\n",
    "HybridGNet_IGSC_2.load_state_dict(torch.load(\"../weights/JSRT_Padchest/HybridGNet_IGSC/2/bestMSE.pt\"))\n",
    "HybridGNet_IGSC_2.eval()\n",
    "print('Model loaded')\n",
    "\n",
    "HybridGNet_IGSC_3 = DoubleSkip(config.copy(), D_t, U_t, A_t).to(device)\n",
    "HybridGNet_IGSC_3.load_state_dict(torch.load(\"../weights/JSRT_Padchest/HybridGNet_IGSC/3/bestMSE.pt\"))\n",
    "HybridGNet_IGSC_3.eval()\n",
    "print('Model loaded')"
   ]
  },
  {
   "cell_type": "code",
   "execution_count": 14,
   "id": "7579010c-9db8-4439-adf2-f05a32e9a2f1",
   "metadata": {},
   "outputs": [
    {
     "name": "stdout",
     "output_type": "stream",
     "text": [
      "6-5\n",
      "Model loaded\n",
      "6-5\n",
      "Model loaded\n",
      "6-5\n",
      "Model loaded\n"
     ]
    }
   ],
   "source": [
    "config['l1'] = 6\n",
    "config['l2'] = 5\n",
    "config['latents'] = 16\n",
    "\n",
    "HCD_1 = DoubleSkip(config.copy(), D_t, U_t, A_t).to(device)\n",
    "HCD_1.load_state_dict(torch.load(\"../weights/JSRT_Padchest/HCD/1/bestMSE.pt\"))\n",
    "HCD_1.eval()\n",
    "print('Model loaded')\n",
    "\n",
    "HCD_2 = DoubleSkip(config.copy(), D_t, U_t, A_t).to(device)\n",
    "HCD_2.load_state_dict(torch.load(\"../weights/JSRT_Padchest/HCD/2/bestMSE.pt\"))\n",
    "HCD_2.eval()\n",
    "print('Model loaded')\n",
    "\n",
    "HCD_3 = DoubleSkip(config.copy(), D_t, U_t, A_t).to(device)\n",
    "HCD_3.load_state_dict(torch.load(\"../weights/JSRT_Padchest/HCD/3/bestMSE.pt\"))\n",
    "HCD_3.eval()\n",
    "print('Model loaded')"
   ]
  },
  {
   "cell_type": "code",
   "execution_count": 15,
   "id": "42bc5e3c-81d6-4dc8-af17-766f51c61d06",
   "metadata": {
    "tags": []
   },
   "outputs": [
    {
     "name": "stdout",
     "output_type": "stream",
     "text": [
      "6-5\n",
      "Model loaded\n",
      "6-5\n",
      "Model loaded\n",
      "6-5\n",
      "Model loaded\n"
     ]
    }
   ],
   "source": [
    "config['load'] = '../weights/hybridgnet_weights/bestMSE_JSRT_Padchest.pt'\n",
    "config['latents'] = 64\n",
    "\n",
    "Rasterize_1 = Rasterize(config.copy(), D_t, U_t, A_t).to(device)\n",
    "Rasterize_1.load_state_dict(torch.load(\"../weights/JSRT_Padchest/Rasterize/1/bestMSE.pt\"))\n",
    "Rasterize_1.eval()\n",
    "print('Model loaded')\n",
    "\n",
    "Rasterize_2 = Rasterize(config.copy(), D_t, U_t, A_t).to(device)\n",
    "Rasterize_2.load_state_dict(torch.load(\"../weights/JSRT_Padchest/Rasterize/2/bestMSE.pt\"))\n",
    "Rasterize_2.eval()\n",
    "print('Model loaded')\n",
    "\n",
    "Rasterize_3 = Rasterize(config.copy(), D_t, U_t, A_t).to(device)\n",
    "Rasterize_3.load_state_dict(torch.load(\"../weights/JSRT_Padchest/Rasterize/3/bestMSE.pt\"))\n",
    "Rasterize_3.eval()\n",
    "print('Model loaded')"
   ]
  },
  {
   "cell_type": "code",
   "execution_count": 16,
   "id": "9750daaf-771f-4239-be9c-427cbb2b153b",
   "metadata": {},
   "outputs": [
    {
     "name": "stdout",
     "output_type": "stream",
     "text": [
      "Encoder sizes:  [  8  16  32  64 128]\n",
      "Model loaded\n",
      "Encoder sizes:  [  8  16  32  64 128]\n",
      "Model loaded\n",
      "Encoder sizes:  [  8  16  32  64 128]\n",
      "Model loaded\n"
     ]
    }
   ],
   "source": [
    "config['latents'] = 16\n",
    "config['unet_weights'] = '../weights/unet_weights/bestDice_JSRT_Padchest.pt'\n",
    "config['rtn_all'] = False\n",
    "\n",
    "Hourglass_1 = Hourglass(config.copy(), D_t, U_t, A_t).to(device)\n",
    "Hourglass_1.load_state_dict(torch.load(\"../weights/JSRT_Padchest/Hourglass/1/bestMSE.pt\"))\n",
    "Hourglass_1.eval()\n",
    "print('Model loaded')\n",
    "\n",
    "Hourglass_2 = Hourglass(config.copy(), D_t, U_t, A_t).to(device)\n",
    "Hourglass_2.load_state_dict(torch.load(\"../weights/JSRT_Padchest/Hourglass/2/bestMSE.pt\"))\n",
    "Hourglass_2.eval()\n",
    "print('Model loaded')\n",
    "\n",
    "Hourglass_3 = Hourglass(config.copy(), D_t, U_t, A_t).to(device)\n",
    "Hourglass_3.load_state_dict(torch.load(\"../weights/JSRT_Padchest/Hourglass/3/bestMSE.pt\"))\n",
    "Hourglass_3.eval()\n",
    "print('Model loaded')"
   ]
  },
  {
   "cell_type": "code",
   "execution_count": 17,
   "id": "a5340c8d-1d95-443d-9150-0eff86e5c3bd",
   "metadata": {},
   "outputs": [
    {
     "name": "stdout",
     "output_type": "stream",
     "text": [
      "Encoder sizes:  [  8  16  32  64 128]\n",
      "Model loaded\n",
      "Encoder sizes:  [  8  16  32  64 128]\n",
      "Model loaded\n",
      "Encoder sizes:  [  8  16  32  64 128]\n",
      "Model loaded\n"
     ]
    }
   ],
   "source": [
    "config['latents'] = 16\n",
    "config['unet_weights'] = '../weights/unet_weights/bestDice_JSRT_Padchest.pt'\n",
    "config['rtn_all'] = False\n",
    "\n",
    "Hourglass_Concat_1 = Hourglass_Concat(config.copy(), D_t, U_t, A_t).to(device)\n",
    "Hourglass_Concat_1.load_state_dict(torch.load(\"../weights/JSRT_Padchest/Hourglass_Concat/1/bestMSE.pt\"))\n",
    "Hourglass_Concat_1.eval()\n",
    "print('Model loaded')\n",
    "\n",
    "Hourglass_Concat_2 = Hourglass_Concat(config.copy(), D_t, U_t, A_t).to(device)\n",
    "Hourglass_Concat_2.load_state_dict(torch.load(\"../weights/JSRT_Padchest/Hourglass_Concat/2/bestMSE.pt\"))\n",
    "Hourglass_Concat_2.eval()\n",
    "print('Model loaded')\n",
    "\n",
    "Hourglass_Concat_3 = Hourglass_Concat(config.copy(), D_t, U_t, A_t).to(device)\n",
    "Hourglass_Concat_3.load_state_dict(torch.load(\"../weights/JSRT_Padchest/Hourglass_Concat/3/bestMSE.pt\"))\n",
    "Hourglass_Concat_3.eval()\n",
    "print('Model loaded')"
   ]
  },
  {
   "cell_type": "code",
   "execution_count": 7,
   "id": "b96af62a-a17d-48fb-b03a-005b7dd69d23",
   "metadata": {},
   "outputs": [
    {
     "name": "stdout",
     "output_type": "stream",
     "text": [
      "Encoder sizes:  [  8  16  32  64 128]\n",
      "Model loaded\n",
      "Encoder sizes:  [  8  16  32  64 128]\n",
      "Model loaded\n",
      "Encoder sizes:  [  8  16  32  64 128]\n",
      "Model loaded\n"
     ]
    }
   ],
   "source": [
    "Multi_Task_1 = Multi_Task(config.copy(), D_t, U_t, A_t).to(device)\n",
    "Multi_Task_1.load_state_dict(torch.load(\"../weights/JSRT_Padchest/Multi_Task/1/bestMSE.pt\"))\n",
    "Multi_Task_1.eval()\n",
    "print('Model loaded')\n",
    "\n",
    "Multi_Task_2 = Multi_Task(config.copy(), D_t, U_t, A_t).to(device)\n",
    "Multi_Task_2.load_state_dict(torch.load(\"../weights/JSRT_Padchest/Multi_Task/2/bestMSE.pt\"))\n",
    "Multi_Task_2.eval()\n",
    "print('Model loaded')\n",
    "\n",
    "Multi_Task_3 = Multi_Task(config.copy(), D_t, U_t, A_t).to(device)\n",
    "Multi_Task_3.load_state_dict(torch.load(\"../weights/JSRT_Padchest/Multi_Task/3/bestMSE.pt\"))\n",
    "Multi_Task_3.eval()\n",
    "print('Model loaded')"
   ]
  },
  {
   "cell_type": "code",
   "execution_count": 19,
   "id": "e0bc68e6-c524-4ed7-b48d-1b20e28d7a80",
   "metadata": {},
   "outputs": [
    {
     "name": "stdout",
     "output_type": "stream",
     "text": [
      "Encoder sizes:  [  8  16  32  64 128]\n",
      "Model loaded\n",
      "Encoder sizes:  [  8  16  32  64 128]\n",
      "Model loaded\n",
      "Encoder sizes:  [  8  16  32  64 128]\n",
      "Model loaded\n"
     ]
    }
   ],
   "source": [
    "config['latents'] = 16\n",
    "config['unet_weights'] = '../weights/unet_weights/bestDice_JSRT_Padchest.pt'\n",
    "config['rtn_all'] = True\n",
    "\n",
    "Joint_1 = Joint(config.copy(), D_t, U_t, A_t).to(device)\n",
    "Joint_1.load_state_dict(torch.load(\"../weights/JSRT_Padchest/Joint/1/bestMSE.pt\"))\n",
    "Joint_1.eval()\n",
    "print('Model loaded')\n",
    "\n",
    "Joint_2 = Joint(config.copy(), D_t, U_t, A_t).to(device)\n",
    "Joint_2.load_state_dict(torch.load(\"../weights/JSRT_Padchest/Joint/2/bestMSE.pt\"))\n",
    "Joint_2.eval()\n",
    "print('Model loaded')\n",
    "\n",
    "Joint_3 = Joint(config.copy(), D_t, U_t, A_t).to(device)\n",
    "Joint_3.load_state_dict(torch.load(\"../weights/JSRT_Padchest/Joint/3/bestMSE.pt\"))\n",
    "Joint_3.eval()\n",
    "print('Model loaded')"
   ]
  },
  {
   "cell_type": "code",
   "execution_count": 20,
   "id": "c81225d5-7f47-4df7-9224-0fa691cc719e",
   "metadata": {},
   "outputs": [
    {
     "name": "stdout",
     "output_type": "stream",
     "text": [
      "Encoder sizes:  [  8  16  32  64 128]\n",
      "Model loaded\n",
      "Encoder sizes:  [  8  16  32  64 128]\n",
      "Model loaded\n",
      "Encoder sizes:  [  8  16  32  64 128]\n",
      "Model loaded\n"
     ]
    }
   ],
   "source": [
    "config['latents'] = 16\n",
    "config['unet_weights'] = '../weights/unet_weights/bestDice_JSRT_Padchest.pt'\n",
    "config['rtn_all'] = True\n",
    "\n",
    "Joint_HCD_1 = Joint(config.copy(), D_t, U_t, A_t).to(device)\n",
    "Joint_HCD_1.load_state_dict(torch.load(\"../weights/JSRT_Padchest/Joint_HCD/1/bestMSE.pt\"))\n",
    "Joint_HCD_1.eval()\n",
    "print('Model loaded')\n",
    "\n",
    "Joint_HCD_2 = Joint(config.copy(), D_t, U_t, A_t).to(device)\n",
    "Joint_HCD_2.load_state_dict(torch.load(\"../weights/JSRT_Padchest/Joint_HCD/2/bestMSE.pt\"))\n",
    "Joint_HCD_2.eval()\n",
    "print('Model loaded')\n",
    "\n",
    "Joint_HCD_3 = Joint(config.copy(), D_t, U_t, A_t).to(device)\n",
    "Joint_HCD_3.load_state_dict(torch.load(\"../weights/JSRT_Padchest/Joint_HCD/3/bestMSE.pt\"))\n",
    "Joint_HCD_3.eval()\n",
    "print('Model loaded')"
   ]
  },
  {
   "cell_type": "code",
   "execution_count": 21,
   "id": "2595b7e5-9c9b-4576-bf63-1ee71db73b1f",
   "metadata": {},
   "outputs": [
    {
     "name": "stdout",
     "output_type": "stream",
     "text": [
      "Model loaded\n",
      "Model loaded\n",
      "Model loaded\n"
     ]
    }
   ],
   "source": [
    "config['unet_weights'] = '../weights/unet_weights/bestDice_JSRT_Padchest.pt'\n",
    "\n",
    "UNet_Joint_1 = UNet_Joint(config).to(device)\n",
    "UNet_Joint_1.load_state_dict(torch.load('../weights/JSRT_Padchest/UNet_Joint/1/bestDice_1000.pt'))\n",
    "UNet_Joint_1.eval()\n",
    "print('Model loaded')\n",
    "\n",
    "UNet_Joint_2 = UNet_Joint(config).to(device)\n",
    "UNet_Joint_2.load_state_dict(torch.load('../weights/JSRT_Padchest/UNet_Joint/2/bestDice_1000.pt'))\n",
    "UNet_Joint_2.eval()\n",
    "print('Model loaded')\n",
    "\n",
    "UNet_Joint_3 = UNet_Joint(config).to(device)\n",
    "UNet_Joint_3.load_state_dict(torch.load('../weights/JSRT_Padchest/UNet_Joint/3/bestDice_1000.pt'))\n",
    "UNet_Joint_3.eval()\n",
    "print('Model loaded')"
   ]
  },
  {
   "cell_type": "code",
   "execution_count": 22,
   "id": "f0c4b6e9-4ccf-461d-a298-8056b7b4841e",
   "metadata": {},
   "outputs": [
    {
     "name": "stdout",
     "output_type": "stream",
     "text": [
      "Model loaded\n",
      "Model loaded\n",
      "Model loaded\n"
     ]
    }
   ],
   "source": [
    "UNet_1 = UNet(n_classes = 3, rtn_all=False).to(device)\n",
    "UNet_1.load_state_dict(torch.load('../weights/JSRT_Padchest/UNet/1/bestDice_1000.pt'))\n",
    "UNet_1.eval()\n",
    "print('Model loaded')\n",
    "\n",
    "UNet_2 = UNet(n_classes = 3, rtn_all=False).to(device)\n",
    "UNet_2.load_state_dict(torch.load('../weights/JSRT_Padchest/UNet/2/bestDice_1000.pt'))\n",
    "UNet_2.eval()\n",
    "print('Model loaded')\n",
    "\n",
    "UNet_3 = UNet(n_classes = 3, rtn_all=False).to(device)\n",
    "UNet_3.load_state_dict(torch.load('../weights/JSRT_Padchest/UNet/3/bestDice_1000.pt'))\n",
    "UNet_3.eval()\n",
    "print('Model loaded')"
   ]
  },
  {
   "cell_type": "code",
   "execution_count": 8,
   "id": "4e629901-950c-484c-8b8f-35886c9c3a4c",
   "metadata": {},
   "outputs": [],
   "source": [
    "segModels = ['UNet_1', 'UNet_2', 'UNet_3', \n",
    "             'UNet_Joint_1', 'UNet_Joint_2', 'UNet_Joint_3', \n",
    "             'DiffRast_1', 'DiffRast_2', 'DiffRast_3']\n",
    "regModels = ['HybridGNet_1', 'HybridGNet_2', 'HybridGNet_3',\n",
    "             'HybridGNet_IGSC_1', 'HybridGNet_IGSC_2', 'HybridGNet_IGSC_3', \n",
    "             'Hourglass_1', 'Hourglass_2', 'Hourglass_3',\n",
    "             'Hourglass_Concat_1', 'Hourglass_Concat_2', 'Hourglass_Concat_3',\n",
    "             'Multi_Task_1', 'Multi_Task_2', 'Multi_Task_3',\n",
    "             'Joint_HCD_1', 'Joint_HCD_2', 'Joint_HCD_3', \n",
    "             'Joint_1', 'Joint_2', 'Joint_3',  \n",
    "             'HCD_1', 'HCD_2', 'HCD_3']"
   ]
  },
  {
   "cell_type": "code",
   "execution_count": null,
   "id": "0719e65b-30ba-4f0e-836e-2c8cb2e4b284",
   "metadata": {},
   "outputs": [],
   "source": []
  },
  {
   "cell_type": "code",
   "execution_count": 9,
   "id": "9accf2f9-b622-4010-8c00-7c3f35a7e62b",
   "metadata": {},
   "outputs": [],
   "source": [
    "model_list = [Multi_Task_1, Multi_Task_2, Multi_Task_3]\n",
    "model_names = ['Multi_Task_1', 'Multi_Task_2', 'Multi_Task_3']"
   ]
  },
  {
   "cell_type": "markdown",
   "id": "e3ddfe9a-f58a-4a07-823c-db1c44a7f68a",
   "metadata": {},
   "source": [
    "## Calc Regression Metrics"
   ]
  },
  {
   "cell_type": "code",
   "execution_count": 10,
   "id": "4d2830ea",
   "metadata": {
    "tags": []
   },
   "outputs": [
    {
     "name": "stdout",
     "output_type": "stream",
     "text": [
      " 58 of 58"
     ]
    }
   ],
   "source": [
    "results1 = pd.DataFrame()\n",
    "\n",
    "for i in range(0, len(test_dataset.images)):   \n",
    "    print('\\r',i+1,'of', len(test_dataset.images),end='')\n",
    "    with torch.no_grad():\n",
    "        sample = test_dataset[i]\n",
    "\n",
    "        data, target = sample['image'], sample['landmarks']\n",
    "        data = torch.unsqueeze(data, 0).to(device)\n",
    "        target =  target.reshape(-1).numpy()\n",
    "        \n",
    "        for j in range(0, len(model_list)):\n",
    "            \n",
    "            start = time.time()\n",
    "            output = model_list[j](data)\n",
    "            end = time.time()\n",
    "            inference = end - start\n",
    "            \n",
    "            if model_names[j] in regModels:\n",
    "                output_ = output[0]\n",
    "                if isinstance(output_, list):\n",
    "                    output_= output_[-1]\n",
    "                # calc mse\n",
    "                output_ = output_.cpu().numpy().reshape(-1)\n",
    "                error = mean_squared_error(target * 1024, output_ * 1024)\n",
    "                aux = pd.DataFrame([[i, error, inference, model_names[j]]], columns=['i','MSE', 'Inference', 'Model'])\n",
    "                results1 = pd.concat([results1,aux], ignore_index = True)\n",
    "            \n",
    "            elif model_names[j] in segModels:\n",
    "                aux = pd.DataFrame([[i, np.nan, inference, model_names[j]]], columns=['i','MSE', 'Inference', 'Model'])\n",
    "                results1 = pd.concat([results1,aux], ignore_index = True)\n",
    "                \n",
    "            else:\n",
    "                print('\\n', model_names[j], 'is not categorised in as a reg, seg or both model')\n",
    "            \n",
    "            "
   ]
  },
  {
   "cell_type": "code",
   "execution_count": 11,
   "id": "56f5648b-df34-4379-bbbf-8b9fec7fcc7d",
   "metadata": {},
   "outputs": [
    {
     "name": "stdout",
     "output_type": "stream",
     "text": [
      "------------ MSE ------------\n",
      "Multi_Task_1 : 271.978 MSE   0.05302 Inference speed (s)\n",
      "Multi_Task_2 : 240.457 MSE   0.05278 Inference speed (s)\n",
      "Multi_Task_3 : 272.013 MSE   0.05256 Inference speed (s)\n"
     ]
    }
   ],
   "source": [
    "print('------------ MSE ------------')\n",
    "for j in range(0, len(model_list)):\n",
    "    inference_speed = results1[results1['Model'] == model_names[j]]['Inference'].mean()\n",
    "    mse_score = results1[results1['Model'] == model_names[j]]['MSE'].mean()\n",
    "    print(model_names[j], ': %.3f MSE   %.5f Inference speed (s)' % (mse_score, inference_speed))"
   ]
  },
  {
   "cell_type": "markdown",
   "id": "41f3cebc-da92-4645-8ef7-3be029826edb",
   "metadata": {},
   "source": [
    "## Calc Segmentation Metrics"
   ]
  },
  {
   "cell_type": "code",
   "execution_count": 12,
   "id": "2a37ddb8",
   "metadata": {
    "tags": []
   },
   "outputs": [],
   "source": [
    "from medpy.metric import dc, hd, assd, jc, asd\n",
    "from utils.fun import reverseVector, drawBinary\n",
    "\n",
    "def evalImageMetrics(blank, output, target_lungs, target_heart):\n",
    "    p1, p2, h, c1, c2 = reverseVector(output)\n",
    "    \n",
    "    ptest_l = drawBinary(blank.copy(), p1)\n",
    "    ptest_l = drawBinary(ptest_l, p2)\n",
    "    \n",
    "    hdp = hd(ptest_l, target_lungs, voxelspacing = 0.35)\n",
    "    dcp = dc(ptest_l, target_lungs)\n",
    "    jcp = jc(ptest_l, target_lungs)\n",
    "\n",
    "    p1, p2, h, c1, c2 = reverseVector(output)\n",
    "    \n",
    "    ptest_h = drawBinary(blank.copy(), h)\n",
    "    \n",
    "    hdc = hd(ptest_h, target_heart, voxelspacing = 0.35)\n",
    "    dcc = dc(ptest_h, target_heart)\n",
    "    jcc = jc(ptest_h, target_heart)\n",
    "    \n",
    "    ptest = np.zeros((1024,1024))\n",
    "    ptest[ptest_l == 255] = 1\n",
    "    ptest[ptest_h == 255] = 2\n",
    "    \n",
    "    return [dcp, dcc, hdp, hdc, jcp, jcc], ptest\n",
    "\n",
    "def evalImageMetricsUNet(output, target_lungs, target_heart):\n",
    "    dcp = dc(output == 1, target_lungs)\n",
    "    dcc = dc(output == 2, target_heart)\n",
    "    \n",
    "    hdp = hd(output == 1, target_lungs, voxelspacing = 0.35)\n",
    "    hdc = hd(output == 2, target_heart, voxelspacing = 0.35)\n",
    "    \n",
    "    jcp = jc(output == 1, target_lungs)\n",
    "    jcc = jc(output == 2, target_heart)\n",
    "        \n",
    "    return [dcp, dcc, hdp, hdc, jcp, jcc]"
   ]
  },
  {
   "cell_type": "code",
   "execution_count": 13,
   "id": "ee3815af-ff33-4f6b-a72d-cf5b7dfaffb9",
   "metadata": {},
   "outputs": [
    {
     "name": "stdout",
     "output_type": "stream",
     "text": [
      " 58 of 58"
     ]
    }
   ],
   "source": [
    "blank = np.zeros([1024, 1024])\n",
    "\n",
    "results = pd.DataFrame()\n",
    "\n",
    "for i in range(0, len(test_dataset.images)):\n",
    "    print('\\r',i+1,'of', len(test_dataset.images),end='')\n",
    "    with torch.no_grad():\n",
    "        sample = test_dataset[i]\n",
    "\n",
    "        data, target = sample['image'], sample['mask'] \n",
    "        data = torch.unsqueeze(data, 0).to(device)\n",
    "       \n",
    "        target = target #.to(device)\n",
    "        t_lungs = target.clone().squeeze(0)\n",
    "        t_lungs[t_lungs != 1] = 0\n",
    "        t_heart = target.clone().squeeze(0)\n",
    "        t_heart[t_heart != 2] = 0\n",
    "        \n",
    "        for j in range(0, len(model_list)):\n",
    "            output = model_list[j](data)\n",
    "                \n",
    "            if model_names[j] in segModels:\n",
    "                if isinstance(output, tuple):\n",
    "                    if len(output) == 2:\n",
    "                        output = output[1] # if model is dual we choose the second output \n",
    "                    elif len(output) == 3:\n",
    "                        output = output[0] # if DiffRast model\n",
    "                        output = F.interpolate(output, (1024,1024))\n",
    "                output_ = output[0,:,:,:]\n",
    "                seg = torch.argmax(output_, axis = 0).cpu().numpy()\n",
    "                \n",
    "                np.save('JSRT_Padchest/Predictions/'+model_names[j][:-2]+'/'+model_names[j][-1]+'/'+test_dataset.images[i].split('/')[-1].replace('.png', '.npy'), seg)\n",
    "                metrics = evalImageMetricsUNet(seg, t_lungs.cpu().numpy(), t_heart.cpu().numpy())\n",
    "                aux = pd.DataFrame([[i, model_names[j]] + metrics], columns=['i','Model','Dice Lungs','Dice Heart','HD Lungs','HD Heart', 'Jaccard Lungs', 'Jaccard Heart'])\n",
    "                results = pd.concat([results, aux], ignore_index = True)\n",
    "                \n",
    "            elif model_names[j] in regModels:\n",
    "                output_ = output[0]\n",
    "                if isinstance(output_, list):\n",
    "                    output_= output_[-1]\n",
    "                output_ = output_.cpu().numpy().reshape(-1) \n",
    "\n",
    "                metrics, seg = evalImageMetrics(blank, output_ * 1024, t_lungs.cpu().numpy(), t_heart.cpu().numpy())\n",
    "                \n",
    "                np.save('JSRT_Padchest/Predictions/'+model_names[j][:-2]+'/'+model_names[j][-1]+'/'+test_dataset.images[i].split('/')[-1].replace('.png', '.npy'), seg)\n",
    "                aux = pd.DataFrame([[i, model_names[j]] + metrics], columns=['i','Model','Dice Lungs','Dice Heart','HD Lungs','HD Heart', 'Jaccard Lungs', 'Jaccard Heart'])\n",
    "                results = pd.concat([results, aux], ignore_index = True)\n",
    "            \n",
    "            else:\n",
    "                print('\\n', model_names[j], 'is not categorised as a reg, seg or both model')\n"
   ]
  },
  {
   "cell_type": "code",
   "execution_count": 14,
   "id": "38780d0b-d841-495c-81df-c03ac5b0b98b",
   "metadata": {
    "tags": []
   },
   "outputs": [
    {
     "data": {
      "text/html": [
       "<div>\n",
       "<style scoped>\n",
       "    .dataframe tbody tr th:only-of-type {\n",
       "        vertical-align: middle;\n",
       "    }\n",
       "\n",
       "    .dataframe tbody tr th {\n",
       "        vertical-align: top;\n",
       "    }\n",
       "\n",
       "    .dataframe thead th {\n",
       "        text-align: right;\n",
       "    }\n",
       "</style>\n",
       "<table border=\"1\" class=\"dataframe\">\n",
       "  <thead>\n",
       "    <tr style=\"text-align: right;\">\n",
       "      <th></th>\n",
       "      <th>i</th>\n",
       "      <th>Model</th>\n",
       "      <th>Dice Lungs</th>\n",
       "      <th>Dice Heart</th>\n",
       "      <th>HD Lungs</th>\n",
       "      <th>HD Heart</th>\n",
       "      <th>Jaccard Lungs</th>\n",
       "      <th>Jaccard Heart</th>\n",
       "    </tr>\n",
       "  </thead>\n",
       "  <tbody>\n",
       "    <tr>\n",
       "      <th>0</th>\n",
       "      <td>0</td>\n",
       "      <td>Multi_Task_1</td>\n",
       "      <td>0.958275</td>\n",
       "      <td>0.939030</td>\n",
       "      <td>14.952007</td>\n",
       "      <td>12.950000</td>\n",
       "      <td>0.919893</td>\n",
       "      <td>0.885067</td>\n",
       "    </tr>\n",
       "    <tr>\n",
       "      <th>1</th>\n",
       "      <td>0</td>\n",
       "      <td>Multi_Task_2</td>\n",
       "      <td>0.959952</td>\n",
       "      <td>0.925721</td>\n",
       "      <td>17.419314</td>\n",
       "      <td>12.682370</td>\n",
       "      <td>0.922988</td>\n",
       "      <td>0.861714</td>\n",
       "    </tr>\n",
       "    <tr>\n",
       "      <th>2</th>\n",
       "      <td>0</td>\n",
       "      <td>Multi_Task_3</td>\n",
       "      <td>0.958078</td>\n",
       "      <td>0.938684</td>\n",
       "      <td>14.952007</td>\n",
       "      <td>12.950000</td>\n",
       "      <td>0.919529</td>\n",
       "      <td>0.884452</td>\n",
       "    </tr>\n",
       "    <tr>\n",
       "      <th>3</th>\n",
       "      <td>1</td>\n",
       "      <td>Multi_Task_1</td>\n",
       "      <td>0.894977</td>\n",
       "      <td>0.928573</td>\n",
       "      <td>17.031735</td>\n",
       "      <td>9.187083</td>\n",
       "      <td>0.809917</td>\n",
       "      <td>0.866670</td>\n",
       "    </tr>\n",
       "    <tr>\n",
       "      <th>4</th>\n",
       "      <td>1</td>\n",
       "      <td>Multi_Task_2</td>\n",
       "      <td>0.917542</td>\n",
       "      <td>0.930212</td>\n",
       "      <td>11.734138</td>\n",
       "      <td>10.293809</td>\n",
       "      <td>0.847647</td>\n",
       "      <td>0.869530</td>\n",
       "    </tr>\n",
       "    <tr>\n",
       "      <th>...</th>\n",
       "      <td>...</td>\n",
       "      <td>...</td>\n",
       "      <td>...</td>\n",
       "      <td>...</td>\n",
       "      <td>...</td>\n",
       "      <td>...</td>\n",
       "      <td>...</td>\n",
       "      <td>...</td>\n",
       "    </tr>\n",
       "    <tr>\n",
       "      <th>169</th>\n",
       "      <td>56</td>\n",
       "      <td>Multi_Task_2</td>\n",
       "      <td>0.972637</td>\n",
       "      <td>0.895212</td>\n",
       "      <td>8.458132</td>\n",
       "      <td>14.803800</td>\n",
       "      <td>0.946732</td>\n",
       "      <td>0.810302</td>\n",
       "    </tr>\n",
       "    <tr>\n",
       "      <th>170</th>\n",
       "      <td>56</td>\n",
       "      <td>Multi_Task_3</td>\n",
       "      <td>0.974697</td>\n",
       "      <td>0.889099</td>\n",
       "      <td>9.824968</td>\n",
       "      <td>15.996953</td>\n",
       "      <td>0.950643</td>\n",
       "      <td>0.800341</td>\n",
       "    </tr>\n",
       "    <tr>\n",
       "      <th>171</th>\n",
       "      <td>57</td>\n",
       "      <td>Multi_Task_1</td>\n",
       "      <td>0.967477</td>\n",
       "      <td>0.938723</td>\n",
       "      <td>16.405258</td>\n",
       "      <td>10.204166</td>\n",
       "      <td>0.937003</td>\n",
       "      <td>0.884522</td>\n",
       "    </tr>\n",
       "    <tr>\n",
       "      <th>172</th>\n",
       "      <td>57</td>\n",
       "      <td>Multi_Task_2</td>\n",
       "      <td>0.969005</td>\n",
       "      <td>0.921764</td>\n",
       "      <td>10.341301</td>\n",
       "      <td>13.300000</td>\n",
       "      <td>0.939874</td>\n",
       "      <td>0.854881</td>\n",
       "    </tr>\n",
       "    <tr>\n",
       "      <th>173</th>\n",
       "      <td>57</td>\n",
       "      <td>Multi_Task_3</td>\n",
       "      <td>0.967975</td>\n",
       "      <td>0.938539</td>\n",
       "      <td>16.405258</td>\n",
       "      <td>10.204166</td>\n",
       "      <td>0.937937</td>\n",
       "      <td>0.884195</td>\n",
       "    </tr>\n",
       "  </tbody>\n",
       "</table>\n",
       "<p>174 rows × 8 columns</p>\n",
       "</div>"
      ],
      "text/plain": [
       "      i         Model  Dice Lungs  Dice Heart   HD Lungs   HD Heart  \\\n",
       "0     0  Multi_Task_1    0.958275    0.939030  14.952007  12.950000   \n",
       "1     0  Multi_Task_2    0.959952    0.925721  17.419314  12.682370   \n",
       "2     0  Multi_Task_3    0.958078    0.938684  14.952007  12.950000   \n",
       "3     1  Multi_Task_1    0.894977    0.928573  17.031735   9.187083   \n",
       "4     1  Multi_Task_2    0.917542    0.930212  11.734138  10.293809   \n",
       "..   ..           ...         ...         ...        ...        ...   \n",
       "169  56  Multi_Task_2    0.972637    0.895212   8.458132  14.803800   \n",
       "170  56  Multi_Task_3    0.974697    0.889099   9.824968  15.996953   \n",
       "171  57  Multi_Task_1    0.967477    0.938723  16.405258  10.204166   \n",
       "172  57  Multi_Task_2    0.969005    0.921764  10.341301  13.300000   \n",
       "173  57  Multi_Task_3    0.967975    0.938539  16.405258  10.204166   \n",
       "\n",
       "     Jaccard Lungs  Jaccard Heart  \n",
       "0         0.919893       0.885067  \n",
       "1         0.922988       0.861714  \n",
       "2         0.919529       0.884452  \n",
       "3         0.809917       0.866670  \n",
       "4         0.847647       0.869530  \n",
       "..             ...            ...  \n",
       "169       0.946732       0.810302  \n",
       "170       0.950643       0.800341  \n",
       "171       0.937003       0.884522  \n",
       "172       0.939874       0.854881  \n",
       "173       0.937937       0.884195  \n",
       "\n",
       "[174 rows x 8 columns]"
      ]
     },
     "execution_count": 14,
     "metadata": {},
     "output_type": "execute_result"
    }
   ],
   "source": [
    "results.to_pickle('JSRT_Padchest/Scores/' + model_names[0][:-2] + '_scores.pkl')\n",
    "results"
   ]
  },
  {
   "cell_type": "code",
   "execution_count": 15,
   "id": "149273d4",
   "metadata": {
    "tags": []
   },
   "outputs": [
    {
     "data": {
      "image/png": "[encoded data removed]",
      "text/plain": [
       "<Figure size 1000x500 with 3 Axes>"
      ]
     },
     "metadata": {},
     "output_type": "display_data"
    },
    {
     "name": "stdout",
     "output_type": "stream",
     "text": [
      "Dice\n",
      "Multi_Task_1 0.945 +- 0.023\n",
      "Multi_Task_2 0.948 +- 0.024\n",
      "Multi_Task_3 0.945 +- 0.023\n",
      "\n",
      "Hausdorff\n",
      "Multi_Task_1 14.640 +- 5.660\n",
      "Multi_Task_2 13.619 +- 5.255\n",
      "Multi_Task_3 14.643 +- 5.660\n",
      "\n",
      "Jaccard\n",
      "Multi_Task_1 0.897 +- 0.040\n",
      "Multi_Task_2 0.902 +- 0.041\n",
      "Multi_Task_3 0.897 +- 0.040\n",
      "\n"
     ]
    }
   ],
   "source": [
    "import matplotlib.ticker as mticker\n",
    "\n",
    "results['Dice Average'] = results[['Dice Lungs', 'Dice Heart']].mean(axis=1)\n",
    "results['HD Average'] = results[['HD Lungs', 'HD Heart']].mean(axis=1)\n",
    "results['Jaccard Average'] = results[['Jaccard Lungs', 'Jaccard Heart']].mean(axis=1)\n",
    "\n",
    "plt.figure(figsize = (10,5))\n",
    "plt.tight_layout()\n",
    "ax = plt.subplot(1,3,1)\n",
    "sns.boxplot(x = 'Model', y = 'Dice Average', data = results, showmeans = True)\n",
    "plt.xticks(rotation=25, ha=\"right\" )\n",
    "plt.ylabel('Dice')\n",
    "plt.title('Dice Average')\n",
    "plt.xlabel(None)\n",
    "\n",
    "ax = plt.subplot(1,3,2)\n",
    "sns.boxplot(x = 'Model', y = 'HD Average', data = results, showmeans = True)\n",
    "plt.xticks(rotation=25, ha=\"right\" )\n",
    "plt.ylabel('HD (mm)')\n",
    "plt.title('Hausdorff Distance')\n",
    "plt.xlabel(None)\n",
    "\n",
    "ax = plt.subplot(1,3,3)\n",
    "sns.boxplot(x = 'Model', y = 'Jaccard Average', data = results, showmeans = True)\n",
    "plt.xticks(rotation=25, ha=\"right\" )\n",
    "plt.ylabel('Jaccard')\n",
    "plt.title('Jaccard Distance')\n",
    "plt.xlabel(None)\n",
    "\n",
    "plt.tight_layout()\n",
    "#plt.savefig('figs/num3.png', dpi=300)\n",
    "plt.show()\n",
    "\n",
    "print('Dice')\n",
    "for model in model_names:\n",
    "    print(model, '%.3f'%np.mean(results['Dice Average'][results['Model'] == model]), '+- %.3f' % np.std(results['Dice Average'][results['Model'] == model]))\n",
    "\n",
    "print('')\n",
    "\n",
    "print('Hausdorff')\n",
    "for model in model_names:\n",
    "    print(model, '%.3f'%np.mean(results['HD Average'][results['Model'] == model]), '+- %.3f' % np.std(results['HD Average'][results['Model'] == model]))\n",
    "\n",
    "print('')\n",
    "\n",
    "print('Jaccard')\n",
    "for model in model_names:\n",
    "    print(model, '%.3f'%np.mean(results['Jaccard Average'][results['Model'] == model]), '+- %.3f' % np.std(results['Jaccard Average'][results['Model'] == model]))\n",
    "\n",
    "print('')"
   ]
  },
  {
   "cell_type": "code",
   "execution_count": 16,
   "id": "f1eaaa1b",
   "metadata": {
    "tags": []
   },
   "outputs": [
    {
     "data": {
      "image/png": "[encoded data removed]",
      "text/plain": [
       "<Figure size 1000x500 with 3 Axes>"
      ]
     },
     "metadata": {},
     "output_type": "display_data"
    },
    {
     "name": "stdout",
     "output_type": "stream",
     "text": [
      "Dice\n",
      "Multi_Task_1 0.9625 +- 0.0207\n",
      "Multi_Task_2 0.9642 +- 0.0200\n",
      "Multi_Task_3 0.9625 +- 0.0206\n",
      "\n",
      "Hausdorff\n",
      "Multi_Task_1 15.3591 +- 7.1058\n",
      "Multi_Task_2 14.0667 +- 6.8754\n",
      "Multi_Task_3 15.3509 +- 7.0932\n",
      "\n",
      "Jaccard\n",
      "Multi_Task_1 0.9284 +- 0.0370\n",
      "Multi_Task_2 0.9315 +- 0.0358\n",
      "Multi_Task_3 0.9284 +- 0.0370\n",
      "\n"
     ]
    }
   ],
   "source": [
    "plt.figure(figsize = (10,5))\n",
    "plt.tight_layout()\n",
    "ax = plt.subplot(1,3,1)\n",
    "sns.boxplot(x = 'Model', y = 'Dice Lungs', data = results, showmeans = True)\n",
    "plt.xticks(rotation=25, ha=\"right\" )\n",
    "plt.ylabel('Dice Lungs')\n",
    "plt.title('Dice Lungs')\n",
    "plt.xlabel(None)\n",
    "\n",
    "ax = plt.subplot(1,3,2)\n",
    "sns.boxplot(x = 'Model', y = 'HD Lungs', data = results, showmeans = True)\n",
    "plt.xticks(rotation=25, ha=\"right\" )\n",
    "plt.ylabel('HD (mm)')\n",
    "plt.title('Hausdorff Distance')\n",
    "plt.xlabel(None)\n",
    "\n",
    "ax = plt.subplot(1,3,3)\n",
    "sns.boxplot(x = 'Model', y = 'Jaccard Lungs', data = results, showmeans = True)\n",
    "plt.xticks(rotation=25, ha=\"right\" )\n",
    "plt.ylabel('Jaccard')\n",
    "plt.title('Jaccard')\n",
    "plt.xlabel(None)\n",
    "\n",
    "plt.tight_layout()\n",
    "#plt.savefig('figs/num2.png', dpi=300)\n",
    "plt.show()\n",
    "\n",
    "print('Dice')\n",
    "for model in model_names:\n",
    "    print(model, '%.4f'%np.mean(results['Dice Lungs'][results['Model'] == model]), '+- %.4f' % np.std(results['Dice Lungs'][results['Model'] == model]))\n",
    "\n",
    "print('')\n",
    "\n",
    "print('Hausdorff')\n",
    "for model in model_names:\n",
    "    print(model, '%.4f'%np.mean(results['HD Lungs'][results['Model'] == model]), '+- %.4f' % np.std(results['HD Lungs'][results['Model'] == model]))\n",
    "\n",
    "print('')\n",
    "\n",
    "print('Jaccard')\n",
    "for model in model_names:\n",
    "    print(model, '%.4f'%np.mean(results['Jaccard Lungs'][results['Model'] == model]), '+- %.4f' % np.std(results['Jaccard Lungs'][results['Model'] == model]))\n",
    "\n",
    "print('')"
   ]
  },
  {
   "cell_type": "code",
   "execution_count": 17,
   "id": "a678dd3d",
   "metadata": {
    "tags": []
   },
   "outputs": [
    {
     "data": {
      "image/png": "[encoded data removed]",
      "text/plain": [
       "<Figure size 1000x500 with 3 Axes>"
      ]
     },
     "metadata": {},
     "output_type": "display_data"
    },
    {
     "name": "stdout",
     "output_type": "stream",
     "text": [
      "Dice\n",
      "Multi_Task_1 0.9275 +- 0.0319\n",
      "Multi_Task_2 0.9309 +- 0.0358\n",
      "Multi_Task_3 0.9275 +- 0.0319\n",
      "\n",
      "Hausdorff\n",
      "Multi_Task_1 13.9215 +- 6.1632\n",
      "Multi_Task_2 13.1722 +- 6.3764\n",
      "Multi_Task_3 13.9342 +- 6.1674\n",
      "\n",
      "Jaccard\n",
      "Multi_Task_1 0.8664 +- 0.0534\n",
      "Multi_Task_2 0.8728 +- 0.0601\n",
      "Multi_Task_3 0.8664 +- 0.0535\n"
     ]
    }
   ],
   "source": [
    "plt.figure(figsize = (10,5))\n",
    "plt.tight_layout()\n",
    "ax = plt.subplot(1,3,1)\n",
    "sns.boxplot(x = 'Model', y = 'Dice Heart', data = results, showmeans = True)\n",
    "plt.xticks(rotation=25, ha=\"right\" )\n",
    "plt.ylabel('Dice Heart')\n",
    "plt.title('Dice Heart')\n",
    "plt.xlabel(None)\n",
    "\n",
    "ax = plt.subplot(1,3,2)\n",
    "sns.boxplot(x = 'Model', y = 'HD Heart', data = results, showmeans = True)\n",
    "plt.xticks(rotation=25, ha=\"right\" )\n",
    "plt.ylabel('HD (mm)')\n",
    "plt.title('Hausdorff Distance')\n",
    "plt.xlabel(None)\n",
    "\n",
    "ax = plt.subplot(1,3,3)\n",
    "sns.boxplot(x = 'Model', y = 'Jaccard Heart', data = results, showmeans = True)\n",
    "plt.xticks(rotation=25, ha=\"right\" )\n",
    "plt.ylabel('Jaccard')\n",
    "plt.title('Jaccard')\n",
    "plt.xlabel(None)\n",
    "\n",
    "plt.tight_layout()\n",
    "#plt.savefig('figs/num1.png', dpi=300)\n",
    "plt.show()\n",
    "\n",
    "print('Dice')\n",
    "for model in model_names:\n",
    "    print(model, '%.4f'%np.mean(results['Dice Heart'][results['Model'] == model]), '+- %.4f' % np.std(results['Dice Heart'][results['Model'] == model]))\n",
    "\n",
    "print('')\n",
    "\n",
    "print('Hausdorff')\n",
    "for model in model_names:\n",
    "    print(model, '%.4f'%np.mean(results['HD Heart'][results['Model'] == model]), '+- %.4f' % np.std(results['HD Heart'][results['Model'] == model]))\n",
    "\n",
    "print('')\n",
    "\n",
    "print('Jaccard')\n",
    "for model in model_names:\n",
    "    print(model, '%.4f'%np.mean(results['Jaccard Heart'][results['Model'] == model]), '+- %.4f' % np.std(results['Jaccard Heart'][results['Model'] == model]))\n"
   ]
  },
  {
   "cell_type": "code",
   "execution_count": null,
   "id": "adac7d25-b557-49b4-962a-c37d4f15ad03",
   "metadata": {},
   "outputs": [],
   "source": []
  }
 ],
 "metadata": {
  "kernelspec": {
   "display_name": "Python [conda env:deformable_detr]",
   "language": "python",
   "name": "conda-env-deformable_detr-py"
  },
  "language_info": {
   "codemirror_mode": {
    "name": "ipython",
    "version": 3
   },
   "file_extension": ".py",
   "mimetype": "text/x-python",
   "name": "python",
   "nbconvert_exporter": "python",
   "pygments_lexer": "ipython3",
   "version": "3.7.15"
  }
 },
 "nbformat": 4,
 "nbformat_minor": 5
}
